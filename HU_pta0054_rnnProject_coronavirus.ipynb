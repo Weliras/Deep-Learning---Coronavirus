{
 "cells": [
  {
   "cell_type": "markdown",
   "id": "4f3e1065-9619-4ea7-a6b9-1e5b5b212ae5",
   "metadata": {},
   "source": [
    "# RNN Project, Coronavirus tweets NLP - Text Classification\n",
    "- Petr Ptáček, PTA0054\n",
    "\n",
    "## Popis datasetu a preprocessingu\n",
    "- Dataset obsahuje tweety, které byly manuálně označeny mírou Sentimentu. V tomto datasetu existuje 5 tříd, které se budou predikovat (Velmi negativní, negativní, neutrální, positivní, velmi positivní). Jedná se tedy o multi label klasifikaci Sentimentu pomocí RNN sítě.\n",
    "- Původně je dataset rozdělen na trénovací a testovací data. Já jsem si všechny data společně načetl a provedl preprocessing. Následně jsem si tyto data rozdělil v poměru 0.8:0.2 na trénovací a testovací pomocí stratifikace (Snažil jsem se zachovat vybalancované rozdělení tříd v datech).\n",
    "- Celkový počet dat je 44955 záznamů, které obsahují samotný tweet, Sentiment, Uživatelské jméno, Display jméno uživatele, Lokaci, Čas. Jelikož budu provádět predikce sentimentu pouze z textu, tak si zanechám pouze samotný tweet a Sentiment - tedy náš label.\n",
    "- O rozdělení tříd v datech se dá říct, že jsou rozloženy pomocí Normálního rozdělení. Tedy máme primárně hodně pozitivních, negativních a neutrálních tweetů. Dá se říct, že třídy jsou vybalancovány. Graf rozdělení lze vidět [zde](#distribution). Maximální rozdíl v počtu mezi jednotlivými třídami je 6000. Což se dalo předpokládat, jelikož se jedná o klasifikaci s více než 2 labely.\n",
    "- Dle analýzy délky tweetů se dá říct, že nejdelší tweety jsou extrémně kladné nebo záporné. Nejkratší tweety jsou neutrální.\n",
    "- Dále jsem provedl preprocessing, který se skládá z několika kroků, které jsem dále popsal v tomto notebooku. Primárně bylo nutné odstranit všechny twitter mentions (@Uzivatel1, @Uzivatel2, ...) a také URL adresy, které se ve velkém množství vyskytují v tweetech. Usoudil jsem, že tyto URL adresy nenesou primárně informaci o tom, zda je tweet pozitivní či ne. Dále jsem provedl úpravy jako převod na lowercase, odstranění interpunkce, odstranění jiných než ascii znaků, odstranění čísel a odstranění anglických stopwords.\n",
    "- Nakonec jsem došel k číslu 47952 unikátních slov. Nejdelší tweety jsou o délce 41 slov. A nejčastější slova ve tweetech jsou: covid, coronavirus, food, prices, store, supermarket, ...\n",
    "- Dále jsem musel enkodovat labely na čísla a ty následně převést na vektor pomocí one hot encoding."
   ]
  },
  {
   "cell_type": "markdown",
   "id": "693ce620-9c4e-443f-8eb8-94fd80ebbd17",
   "metadata": {},
   "source": [
    "## Import Knihoven"
   ]
  },
  {
   "cell_type": "code",
   "execution_count": 100,
   "id": "e94e9d23-7f13-428d-a4e3-775672f8bc8a",
   "metadata": {},
   "outputs": [],
   "source": [
    "import os\n",
    "import random\n",
    "import itertools\n",
    "# Pandas dataframes\n",
    "import pandas as pd\n",
    "# Numpy\n",
    "import numpy as np \n",
    "# Tensorflow 2.10.0\n",
    "import tensorflow as tf\n",
    "from tensorflow.keras.utils import Sequence\n",
    "from tensorflow.keras.preprocessing.image import ImageDataGenerator\n",
    "import scipy\n",
    "\n",
    "# scikit-learn\n",
    "import sklearn\n",
    "from sklearn.datasets import load_files\n",
    "from sklearn.model_selection import train_test_split\n",
    "\n",
    "# Graphing\n",
    "import matplotlib\n",
    "from matplotlib import pyplot as plt    \n",
    "import seaborn as sns"
   ]
  },
  {
   "cell_type": "code",
   "execution_count": 81,
   "id": "c5546e9c-4aaf-428f-82c1-02cdceeb6574",
   "metadata": {},
   "outputs": [],
   "source": [
    "import unicodedata, re, string\n",
    "import nltk\n",
    "from textblob import TextBlob"
   ]
  },
  {
   "cell_type": "code",
   "execution_count": 56,
   "id": "f66ea8c0-0593-480c-a75a-6caf1ca92371",
   "metadata": {},
   "outputs": [
    {
     "name": "stderr",
     "output_type": "stream",
     "text": [
      "[nltk_data] Downloading package punkt to /home/pta0054/nltk_data...\n",
      "[nltk_data]   Unzipping tokenizers/punkt.zip.\n"
     ]
    },
    {
     "data": {
      "text/plain": [
       "True"
      ]
     },
     "execution_count": 56,
     "metadata": {},
     "output_type": "execute_result"
    }
   ],
   "source": [
    "nltk.download('punkt')"
   ]
  },
  {
   "cell_type": "code",
   "execution_count": 79,
   "id": "8d4d3616-4b90-450a-b1d8-c39d27899841",
   "metadata": {},
   "outputs": [
    {
     "name": "stderr",
     "output_type": "stream",
     "text": [
      "[nltk_data] Downloading package stopwords to\n",
      "[nltk_data]     /home/pta0054/nltk_data...\n",
      "[nltk_data]   Unzipping corpora/stopwords.zip.\n"
     ]
    },
    {
     "data": {
      "text/plain": [
       "True"
      ]
     },
     "execution_count": 79,
     "metadata": {},
     "output_type": "execute_result"
    }
   ],
   "source": [
    "nltk.download('stopwords')"
   ]
  },
  {
   "cell_type": "code",
   "execution_count": 83,
   "id": "c855a126-f834-4191-9b96-5093a5d385b1",
   "metadata": {},
   "outputs": [
    {
     "name": "stdout",
     "output_type": "stream",
     "text": [
      "['i', 'me', 'my', 'myself', 'we', 'our', 'ours', 'ourselves', 'you', \"you're\", \"you've\", \"you'll\", \"you'd\", 'your', 'yours', 'yourself', 'yourselves', 'he', 'him', 'his', 'himself', 'she', \"she's\", 'her', 'hers', 'herself', 'it', \"it's\", 'its', 'itself', 'they', 'them', 'their', 'theirs', 'themselves', 'what', 'which', 'who', 'whom', 'this', 'that', \"that'll\", 'these', 'those', 'am', 'is', 'are', 'was', 'were', 'be', 'been', 'being', 'have', 'has', 'had', 'having', 'do', 'does', 'did', 'doing', 'a', 'an', 'the', 'and', 'but', 'if', 'or', 'because', 'as', 'until', 'while', 'of', 'at', 'by', 'for', 'with', 'about', 'against', 'between', 'into', 'through', 'during', 'before', 'after', 'above', 'below', 'to', 'from', 'up', 'down', 'in', 'out', 'on', 'off', 'over', 'under', 'again', 'further', 'then', 'once', 'here', 'there', 'when', 'where', 'why', 'how', 'all', 'any', 'both', 'each', 'few', 'more', 'most', 'other', 'some', 'such', 'no', 'nor', 'not', 'only', 'own', 'same', 'so', 'than', 'too', 'very', 's', 't', 'can', 'will', 'just', 'don', \"don't\", 'should', \"should've\", 'now', 'd', 'll', 'm', 'o', 're', 've', 'y', 'ain', 'aren', \"aren't\", 'couldn', \"couldn't\", 'didn', \"didn't\", 'doesn', \"doesn't\", 'hadn', \"hadn't\", 'hasn', \"hasn't\", 'haven', \"haven't\", 'isn', \"isn't\", 'ma', 'mightn', \"mightn't\", 'mustn', \"mustn't\", 'needn', \"needn't\", 'shan', \"shan't\", 'shouldn', \"shouldn't\", 'wasn', \"wasn't\", 'weren', \"weren't\", 'won', \"won't\", 'wouldn', \"wouldn't\"]\n"
     ]
    }
   ],
   "source": [
    "# just take a look on stopwords\n",
    "print(nltk.corpus.stopwords.words(\"english\"))"
   ]
  },
  {
   "cell_type": "code",
   "execution_count": 55,
   "id": "f94893b5-e0fc-42bb-abb1-27b45f5cee22",
   "metadata": {},
   "outputs": [
    {
     "data": {
      "text/plain": [
       "[PhysicalDevice(name='/physical_device:GPU:0', device_type='GPU')]"
      ]
     },
     "execution_count": 55,
     "metadata": {},
     "output_type": "execute_result"
    }
   ],
   "source": [
    "# check if gpu is ready to use\n",
    "tf.config.list_physical_devices('GPU')"
   ]
  },
  {
   "cell_type": "code",
   "execution_count": null,
   "id": "cb727879-0543-4019-b59c-4057ebc6abc3",
   "metadata": {},
   "outputs": [],
   "source": [
    "# Eneable\n",
    "tf.config.run_functions_eagerly(True)"
   ]
  },
  {
   "cell_type": "markdown",
   "id": "73e493ae-875a-43a8-82dd-28b7715d691d",
   "metadata": {},
   "source": [
    "## Definované funkce"
   ]
  },
  {
   "cell_type": "code",
   "execution_count": 6,
   "id": "dc0d44a4-64da-469b-ac5f-272f7774dc0b",
   "metadata": {},
   "outputs": [],
   "source": [
    "def show_history(history):\n",
    "    plt.figure()\n",
    "    for key in history.history.keys():\n",
    "        plt.plot(history.epoch, history.history[key], label=key)\n",
    "    plt.legend()\n",
    "    plt.tight_layout()"
   ]
  },
  {
   "cell_type": "code",
   "execution_count": 68,
   "id": "24c85f5c-4733-461b-aa22-be332af59816",
   "metadata": {},
   "outputs": [],
   "source": [
    "def remove_mentions(item):\n",
    "    \"\"\"Remove @Username from tweet \"\"\"\n",
    "    items_splitted = item.split()\n",
    "    items_splitted_without_mentions = [x for x in items_splitted if not x.startswith(\"@\")]\n",
    "    return \" \".join(items_splitted_without_mentions)"
   ]
  },
  {
   "cell_type": "code",
   "execution_count": 118,
   "id": "91a2ff7c-a342-4cb9-91f3-3e6ee6a408ee",
   "metadata": {},
   "outputs": [],
   "source": [
    "def remove_url(item):\n",
    "    \"\"\"Remove http://... because almost every tweet contain any redirection.\"\"\"\n",
    "    items_splitted = item.split()\n",
    "    items_splitted_without_url = [x for x in items_splitted if not x.startswith(\"http\")]\n",
    "    return \" \".join(items_splitted_without_url)"
   ]
  },
  {
   "cell_type": "code",
   "execution_count": 95,
   "id": "dc5ded1d-36e6-42c4-8fb2-e1b1ff307bdb",
   "metadata": {},
   "outputs": [],
   "source": [
    "def fix_nt(words):\n",
    "    st_res = []\n",
    "    for i in range(0, len(words) - 1):\n",
    "        if words[i+1] == \"n't\" or words[i+1] == \"nt\":\n",
    "            st_res.append(words[i]+(\"n't\"))\n",
    "        else:\n",
    "            if words[i] != \"n't\" and words[i] != \"nt\":\n",
    "                st_res.append(words[i])\n",
    "    return st_res"
   ]
  },
  {
   "cell_type": "code",
   "execution_count": 82,
   "id": "c7a2d690-4bb7-4f27-a531-7621f01aae94",
   "metadata": {},
   "outputs": [],
   "source": [
    "def remove_non_ascii(words):\n",
    "    \"\"\"Remove non-ASCII characters from list of tokenized words\"\"\"\n",
    "    new_words = []\n",
    "    for word in words:\n",
    "        new_word = unicodedata.normalize('NFKD', word).encode('ascii', 'ignore').decode('utf-8', 'ignore')\n",
    "        new_words.append(new_word)\n",
    "    return new_words\n",
    "\n",
    "def to_lowercase(words):\n",
    "    \"\"\"Convert all characters to lowercase from list of tokenized words\"\"\"\n",
    "    new_words = []\n",
    "    for word in words:\n",
    "        new_word = word.lower()\n",
    "        new_words.append(new_word)\n",
    "    return new_words\n",
    "\n",
    "def remove_punctuation(words):\n",
    "    \"\"\"Remove punctuation from list of tokenized words\"\"\"\n",
    "    new_words = []\n",
    "    for word in words:\n",
    "        new_word = re.sub(r'[^\\w\\s]', '', word)\n",
    "        if new_word != '':\n",
    "            new_words.append(new_word)\n",
    "    return new_words\n",
    "\n",
    "def remove_numbers(words):\n",
    "    \"\"\"Remove all interger occurrences in list of tokenized words with textual representation\"\"\"\n",
    "    new_words = []\n",
    "    for word in words:\n",
    "        new_word = re.sub(\"\\d+\", \"\", word)\n",
    "        if new_word != '':\n",
    "            new_words.append(new_word)\n",
    "    return new_words\n",
    "\n",
    "def remove_stopwords(words):\n",
    "    \"\"\"Remove stop words from list of tokenized words\"\"\"\n",
    "    new_words = []\n",
    "    for word in words:\n",
    "        if word not in nltk.corpus.stopwords.words(\"english\"):\n",
    "            new_words.append(word)\n",
    "    return new_words\n",
    "\n",
    "def stem_words(words):\n",
    "    \"\"\"Stem words in list of tokenized words\"\"\"\n",
    "    stemmer = LancasterStemmer()\n",
    "    stems = []\n",
    "    for word in words:\n",
    "        stem = stemmer.stem(word)\n",
    "        stems.append(stem)\n",
    "    return stems\n",
    "\n",
    "def lemmatize_verbs(words):\n",
    "    \"\"\"Lemmatize verbs in list of tokenized words\"\"\"\n",
    "    lemmatizer = WordNetLemmatizer()\n",
    "    lemmas = []\n",
    "    for word in words:\n",
    "        lemma = lemmatizer.lemmatize(word, pos='v')\n",
    "        lemmas.append(lemma)\n",
    "    return lemmas\n",
    "\n",
    "def normalize(words):\n",
    "    words = remove_non_ascii(words)\n",
    "    words = to_lowercase(words)\n",
    "    words = remove_punctuation(words)\n",
    "    words = remove_numbers(words)\n",
    "    words = remove_stopwords(words)\n",
    "    return words\n",
    "\n",
    "def form_sentence(tweet):\n",
    "    tweet_blob = TextBlob(tweet)\n",
    "    return tweet_blob.words"
   ]
  },
  {
   "cell_type": "markdown",
   "id": "737aa8c6-7f70-48d4-9256-e9afd5d977ba",
   "metadata": {},
   "source": [
    "## Načtení dat a preprocessing"
   ]
  },
  {
   "cell_type": "markdown",
   "id": "aa71fec7-7546-4ec4-a311-91aa3d063e59",
   "metadata": {},
   "source": [
    "### Trénovací data a zároveň Testovací data"
   ]
  },
  {
   "cell_type": "code",
   "execution_count": 247,
   "id": "f218baa9-d9b0-4eff-9b57-1247c479f601",
   "metadata": {},
   "outputs": [],
   "source": [
    "# Load train dataset\n",
    "df_train = pd.read_csv(\"Corona_NLP_train.csv\", encoding = \"ISO-8859-1\")\n",
    "# Take only tweet and sentiment, because we are going to do sentiment analysis from tweets\n",
    "df_train = df_train.loc[:, [\"OriginalTweet\", \"Sentiment\"]]"
   ]
  },
  {
   "cell_type": "code",
   "execution_count": 248,
   "id": "dfb425a7-32f1-47b1-9547-e6be08e5419b",
   "metadata": {},
   "outputs": [],
   "source": [
    "# Load test dataset\n",
    "df_test = pd.read_csv(\"Corona_NLP_test.csv\", encoding = \"ISO-8859-1\")\n",
    "# Take only tweet and sentiment, because we are going to do sentiment analysis from tweets\n",
    "df_test = df_test.loc[:, [\"OriginalTweet\", \"Sentiment\"]]"
   ]
  },
  {
   "cell_type": "code",
   "execution_count": 249,
   "id": "74ab38fc-8efe-4af8-8bb7-f78a2caf115b",
   "metadata": {},
   "outputs": [],
   "source": [
    "# Merge test and train dataset for common preprocessing\n",
    "df_all = pd.concat([df_train, df_test], ignore_index=True)"
   ]
  },
  {
   "cell_type": "code",
   "execution_count": 250,
   "id": "1e4a3441-dc64-4e33-8781-bcaf08f18f70",
   "metadata": {},
   "outputs": [
    {
     "name": "stdout",
     "output_type": "stream",
     "text": [
      "Train: 41157, Test: 3798, Both: 44955\n"
     ]
    }
   ],
   "source": [
    "# Size of train, test and all datasets.\n",
    "print(f\"Train: {df_train.shape[0]}, Test: {df_test.shape[0]}, Both: {df_all.shape[0]}\")"
   ]
  },
  {
   "cell_type": "code",
   "execution_count": 251,
   "id": "084e8813-9579-4656-8a1e-329520a0a061",
   "metadata": {},
   "outputs": [
    {
     "data": {
      "text/html": [
       "<div>\n",
       "<style scoped>\n",
       "    .dataframe tbody tr th:only-of-type {\n",
       "        vertical-align: middle;\n",
       "    }\n",
       "\n",
       "    .dataframe tbody tr th {\n",
       "        vertical-align: top;\n",
       "    }\n",
       "\n",
       "    .dataframe thead th {\n",
       "        text-align: right;\n",
       "    }\n",
       "</style>\n",
       "<table border=\"1\" class=\"dataframe\">\n",
       "  <thead>\n",
       "    <tr style=\"text-align: right;\">\n",
       "      <th></th>\n",
       "      <th>OriginalTweet</th>\n",
       "      <th>Sentiment</th>\n",
       "    </tr>\n",
       "  </thead>\n",
       "  <tbody>\n",
       "    <tr>\n",
       "      <th>0</th>\n",
       "      <td>@MeNyrbie @Phil_Gahan @Chrisitv https://t.co/i...</td>\n",
       "      <td>Neutral</td>\n",
       "    </tr>\n",
       "    <tr>\n",
       "      <th>1</th>\n",
       "      <td>advice Talk to your neighbours family to excha...</td>\n",
       "      <td>Positive</td>\n",
       "    </tr>\n",
       "    <tr>\n",
       "      <th>2</th>\n",
       "      <td>Coronavirus Australia: Woolworths to give elde...</td>\n",
       "      <td>Positive</td>\n",
       "    </tr>\n",
       "    <tr>\n",
       "      <th>3</th>\n",
       "      <td>My food stock is not the only one which is emp...</td>\n",
       "      <td>Positive</td>\n",
       "    </tr>\n",
       "    <tr>\n",
       "      <th>4</th>\n",
       "      <td>Me, ready to go at supermarket during the #COV...</td>\n",
       "      <td>Extremely Negative</td>\n",
       "    </tr>\n",
       "  </tbody>\n",
       "</table>\n",
       "</div>"
      ],
      "text/plain": [
       "                                       OriginalTweet           Sentiment\n",
       "0  @MeNyrbie @Phil_Gahan @Chrisitv https://t.co/i...             Neutral\n",
       "1  advice Talk to your neighbours family to excha...            Positive\n",
       "2  Coronavirus Australia: Woolworths to give elde...            Positive\n",
       "3  My food stock is not the only one which is emp...            Positive\n",
       "4  Me, ready to go at supermarket during the #COV...  Extremely Negative"
      ]
     },
     "execution_count": 251,
     "metadata": {},
     "output_type": "execute_result"
    }
   ],
   "source": [
    "# Take a look at data\n",
    "df_all.head()"
   ]
  },
  {
   "cell_type": "code",
   "execution_count": 252,
   "id": "52464b8f-599e-467b-98e5-15c5ccebefce",
   "metadata": {},
   "outputs": [
    {
     "name": "stdout",
     "output_type": "stream",
     "text": [
      "Number of sentiment classes: 5\n",
      "The classes are: ['Neutral' 'Positive' 'Extremely Negative' 'Negative' 'Extremely Positive']\n"
     ]
    }
   ],
   "source": [
    "# How many classes we are going to predict?\n",
    "print(f\"Number of sentiment classes: {df_all.Sentiment.unique().shape[0]}\")\n",
    "print(f\"The classes are: {df_all.Sentiment.unique()}\")"
   ]
  },
  {
   "cell_type": "markdown",
   "id": "34b60983-f3f5-4423-9cfd-cfd4518b86a9",
   "metadata": {},
   "source": [
    "<a id='distribution'></a>"
   ]
  },
  {
   "cell_type": "code",
   "execution_count": 253,
   "id": "e15941c1-e33c-4f0d-bf04-02af3b4a49d2",
   "metadata": {},
   "outputs": [
    {
     "data": {
      "image/png": "[encoded data removed]",
      "text/plain": [
       "<Figure size 720x432 with 1 Axes>"
      ]
     },
     "metadata": {
      "needs_background": "light"
     },
     "output_type": "display_data"
    }
   ],
   "source": [
    "# How are the classes balanced?\n",
    "fig, ax = plt.subplots(figsize=(10,6))\n",
    "sns.countplot(data=df_all, x=df_all.Sentiment, ax=ax)\n",
    "ax.set_title(\"Distribution of tweets by their sentiment.\")\n",
    "\n",
    "for container in ax.containers:\n",
    "    ax.bar_label(container)\n",
    "plt.show()"
   ]
  },
  {
   "cell_type": "code",
   "execution_count": 254,
   "id": "beac716d-77e9-49d0-8cf0-4184ef472cbd",
   "metadata": {},
   "outputs": [
    {
     "name": "stdout",
     "output_type": "stream",
     "text": [
      "Classes are balanced like this:\n",
      "(Extremely Positive:Positive:Neutral:Negative:Extremely Negative)\n",
      "(0.16:0.28:0.19:0.22:0.14)        \n"
     ]
    }
   ],
   "source": [
    "# balance of the classes\n",
    "neutral = round(df_all.loc[df_all.Sentiment == \"Neutral\"].shape[0] / df_all.shape[0], 2)\n",
    "positive =  round(df_all.loc[df_all.Sentiment == \"Positive\"].shape[0] / df_all.shape[0], 2)\n",
    "extremely_negative =  round(df_all.loc[df_all.Sentiment == \"Extremely Negative\"].shape[0] / df_all.shape[0], 2)\n",
    "negative =  round(df_train.loc[df_all.Sentiment == \"Negative\"].shape[0] / df_all.shape[0], 2)\n",
    "extremely_positive =  round(df_all.loc[df_all.Sentiment == \"Extremely Positive\"].shape[0] / df_all.shape[0], 2)\n",
    "print(f\"Classes are balanced like this:\")\n",
    "print(f\"(Extremely Positive:Positive:Neutral:Negative:Extremely Negative)\\n\\\n",
    "({extremely_positive}:{positive}:{neutral}:{negative}:{extremely_negative})\\\n",
    "        \")\n"
   ]
  },
  {
   "cell_type": "code",
   "execution_count": 255,
   "id": "c9d54776-4eb9-4c88-af2e-d2163aca90c0",
   "metadata": {},
   "outputs": [
    {
     "data": {
      "image/png": "[encoded data removed]",
      "text/plain": [
       "<Figure size 720x432 with 1 Axes>"
      ]
     },
     "metadata": {
      "needs_background": "light"
     },
     "output_type": "display_data"
    }
   ],
   "source": [
    "# check length of tweets\n",
    "df_all[\"length\"] = df_all.OriginalTweet.apply(lambda x: len(x))\n",
    "# Plot boxplots for each class of sentiment\n",
    "fig, ax = plt.subplots(figsize=(10,6))\n",
    "sns.boxplot(x=df_all.Sentiment, y=df_all.length, data = df_all, ax=ax)\n",
    "ax.set_title(\"Boxplots of length of tweets by their sentiment.\")\n",
    "\n",
    "plt.show()"
   ]
  },
  {
   "cell_type": "code",
   "execution_count": 256,
   "id": "56e6e874-d96b-4fd3-a6fd-4fde33a7d037",
   "metadata": {},
   "outputs": [
    {
     "name": "stdout",
     "output_type": "stream",
     "text": [
      "@MeNyrbie @Phil_Gahan @Chrisitv https://t.co/iFz9FAn2Pa and https://t.co/xX6ghGFzCC and https://t.co/I2NlzdxNo8\n",
      "---------\n",
      "advice Talk to your neighbours family to exchange phone numbers create contact list with phone numbers of neighbours schools employer chemist GP set up online shopping accounts if poss adequate supplies of regular meds but not over order\n",
      "---------\n",
      "Coronavirus Australia: Woolworths to give elderly, disabled dedicated shopping hours amid COVID-19 outbreak https://t.co/bInCA9Vp8P\n",
      "---------\n",
      "My food stock is not the only one which is empty...\n",
      "\n",
      "PLEASE, don't panic, THERE WILL BE ENOUGH FOOD FOR EVERYONE if you do not take more than you need. \n",
      "Stay calm, stay safe.\n",
      "\n",
      "#COVID19france #COVID_19 #COVID19 #coronavirus #confinement #Confinementotal #ConfinementGeneral https://t.co/zrlG0Z520j\n",
      "---------\n",
      "Me, ready to go at supermarket during the #COVID19 outbreak.\n",
      "\n",
      "Not because I'm paranoid, but because my food stock is litteraly empty. The #coronavirus is a serious thing, but please, don't panic. It causes shortage...\n",
      "\n",
      "#CoronavirusFrance #restezchezvous #StayAtHome #confinement https://t.co/usmuaLq72n\n",
      "---------\n",
      "As news of the regionÂs first confirmed COVID-19 case came out of Sullivan County last week, people flocked to area stores to purchase cleaning supplies, hand sanitizer, food, toilet paper and other goods, @Tim_Dodson reports https://t.co/cfXch7a2lU\n",
      "---------\n",
      "Cashier at grocery store was sharing his insights on #Covid_19 To prove his credibility he commented \"I'm in Civics class so I know what I'm talking about\". https://t.co/ieFDNeHgDO\n",
      "---------\n",
      "Was at the supermarket today. Didn't buy toilet paper. #Rebel\n",
      "\n",
      "#toiletpapercrisis #covid_19 https://t.co/eVXkQLIdAZ\n",
      "---------\n",
      "Due to COVID-19 our retail store and classroom in Atlanta will not be open for walk-in business or classes for the next two weeks, beginning Monday, March 16.  We will continue to process online and phone orders as normal! Thank you for your understanding! https://t.co/kw91zJ5O5i\n",
      "---------\n",
      "For corona prevention,we should stop to buy things with the cash and should use online payment methods because corona can spread through the notes. Also we should prefer online shopping from our home. It's time to fight against COVID 19?. #govindia #IndiaFightsCorona\n",
      "---------\n",
      "All month there hasn't been crowding in the supermarkets or restaurants, however reducing all the hours and closing the malls means everyone is now using the same entrance and dependent on a single supermarket. #manila #lockdown #covid2019 #Philippines https://t.co/HxWs9LAnF9\n",
      "---------\n"
     ]
    }
   ],
   "source": [
    "# Take a detailed look on tweets\n",
    "for x in df_all.loc[:10, 'OriginalTweet']:\n",
    "    print(x)\n",
    "    print('---------')"
   ]
  },
  {
   "cell_type": "code",
   "execution_count": 257,
   "id": "34e5cbf2-0b91-438a-b11a-6b320df7926b",
   "metadata": {},
   "outputs": [
    {
     "data": {
      "text/html": [
       "<div>\n",
       "<style scoped>\n",
       "    .dataframe tbody tr th:only-of-type {\n",
       "        vertical-align: middle;\n",
       "    }\n",
       "\n",
       "    .dataframe tbody tr th {\n",
       "        vertical-align: top;\n",
       "    }\n",
       "\n",
       "    .dataframe thead th {\n",
       "        text-align: right;\n",
       "    }\n",
       "</style>\n",
       "<table border=\"1\" class=\"dataframe\">\n",
       "  <thead>\n",
       "    <tr style=\"text-align: right;\">\n",
       "      <th></th>\n",
       "      <th>OriginalTweet</th>\n",
       "      <th>OriginalTweetNoMentions</th>\n",
       "    </tr>\n",
       "  </thead>\n",
       "  <tbody>\n",
       "    <tr>\n",
       "      <th>0</th>\n",
       "      <td>@MeNyrbie @Phil_Gahan @Chrisitv https://t.co/i...</td>\n",
       "      <td>https://t.co/iFz9FAn2Pa and https://t.co/xX6gh...</td>\n",
       "    </tr>\n",
       "    <tr>\n",
       "      <th>1</th>\n",
       "      <td>advice Talk to your neighbours family to excha...</td>\n",
       "      <td>advice Talk to your neighbours family to excha...</td>\n",
       "    </tr>\n",
       "    <tr>\n",
       "      <th>2</th>\n",
       "      <td>Coronavirus Australia: Woolworths to give elde...</td>\n",
       "      <td>Coronavirus Australia: Woolworths to give elde...</td>\n",
       "    </tr>\n",
       "    <tr>\n",
       "      <th>3</th>\n",
       "      <td>My food stock is not the only one which is emp...</td>\n",
       "      <td>My food stock is not the only one which is emp...</td>\n",
       "    </tr>\n",
       "    <tr>\n",
       "      <th>4</th>\n",
       "      <td>Me, ready to go at supermarket during the #COV...</td>\n",
       "      <td>Me, ready to go at supermarket during the #COV...</td>\n",
       "    </tr>\n",
       "  </tbody>\n",
       "</table>\n",
       "</div>"
      ],
      "text/plain": [
       "                                       OriginalTweet  \\\n",
       "0  @MeNyrbie @Phil_Gahan @Chrisitv https://t.co/i...   \n",
       "1  advice Talk to your neighbours family to excha...   \n",
       "2  Coronavirus Australia: Woolworths to give elde...   \n",
       "3  My food stock is not the only one which is emp...   \n",
       "4  Me, ready to go at supermarket during the #COV...   \n",
       "\n",
       "                             OriginalTweetNoMentions  \n",
       "0  https://t.co/iFz9FAn2Pa and https://t.co/xX6gh...  \n",
       "1  advice Talk to your neighbours family to excha...  \n",
       "2  Coronavirus Australia: Woolworths to give elde...  \n",
       "3  My food stock is not the only one which is emp...  \n",
       "4  Me, ready to go at supermarket during the #COV...  "
      ]
     },
     "execution_count": 257,
     "metadata": {},
     "output_type": "execute_result"
    }
   ],
   "source": [
    "# Remove @Username mentions\n",
    "df_all[\"OriginalTweetNoMentions\"] = df_all.OriginalTweet.apply(remove_mentions)\n",
    "df_all.loc[:, [\"OriginalTweet\", \"OriginalTweetNoMentions\"]].head(5)"
   ]
  },
  {
   "cell_type": "code",
   "execution_count": 258,
   "id": "7e58f0b2-e583-4cdb-b43f-90543a9cab6a",
   "metadata": {},
   "outputs": [
    {
     "data": {
      "text/html": [
       "<div>\n",
       "<style scoped>\n",
       "    .dataframe tbody tr th:only-of-type {\n",
       "        vertical-align: middle;\n",
       "    }\n",
       "\n",
       "    .dataframe tbody tr th {\n",
       "        vertical-align: top;\n",
       "    }\n",
       "\n",
       "    .dataframe thead th {\n",
       "        text-align: right;\n",
       "    }\n",
       "</style>\n",
       "<table border=\"1\" class=\"dataframe\">\n",
       "  <thead>\n",
       "    <tr style=\"text-align: right;\">\n",
       "      <th></th>\n",
       "      <th>OriginalTweet</th>\n",
       "      <th>OriginalTweetNoMentionsAndNoURL</th>\n",
       "    </tr>\n",
       "  </thead>\n",
       "  <tbody>\n",
       "    <tr>\n",
       "      <th>0</th>\n",
       "      <td>@MeNyrbie @Phil_Gahan @Chrisitv https://t.co/i...</td>\n",
       "      <td>and and</td>\n",
       "    </tr>\n",
       "    <tr>\n",
       "      <th>1</th>\n",
       "      <td>advice Talk to your neighbours family to excha...</td>\n",
       "      <td>advice Talk to your neighbours family to excha...</td>\n",
       "    </tr>\n",
       "    <tr>\n",
       "      <th>2</th>\n",
       "      <td>Coronavirus Australia: Woolworths to give elde...</td>\n",
       "      <td>Coronavirus Australia: Woolworths to give elde...</td>\n",
       "    </tr>\n",
       "    <tr>\n",
       "      <th>3</th>\n",
       "      <td>My food stock is not the only one which is emp...</td>\n",
       "      <td>My food stock is not the only one which is emp...</td>\n",
       "    </tr>\n",
       "    <tr>\n",
       "      <th>4</th>\n",
       "      <td>Me, ready to go at supermarket during the #COV...</td>\n",
       "      <td>Me, ready to go at supermarket during the #COV...</td>\n",
       "    </tr>\n",
       "  </tbody>\n",
       "</table>\n",
       "</div>"
      ],
      "text/plain": [
       "                                       OriginalTweet  \\\n",
       "0  @MeNyrbie @Phil_Gahan @Chrisitv https://t.co/i...   \n",
       "1  advice Talk to your neighbours family to excha...   \n",
       "2  Coronavirus Australia: Woolworths to give elde...   \n",
       "3  My food stock is not the only one which is emp...   \n",
       "4  Me, ready to go at supermarket during the #COV...   \n",
       "\n",
       "                     OriginalTweetNoMentionsAndNoURL  \n",
       "0                                            and and  \n",
       "1  advice Talk to your neighbours family to excha...  \n",
       "2  Coronavirus Australia: Woolworths to give elde...  \n",
       "3  My food stock is not the only one which is emp...  \n",
       "4  Me, ready to go at supermarket during the #COV...  "
      ]
     },
     "execution_count": 258,
     "metadata": {},
     "output_type": "execute_result"
    }
   ],
   "source": [
    "# remove url address\n",
    "df_all[\"OriginalTweetNoMentionsAndNoURL\"] = df_all.OriginalTweetNoMentions.apply(remove_url)\n",
    "df_all.loc[:, [\"OriginalTweet\", \"OriginalTweetNoMentionsAndNoURL\"]].head(5)"
   ]
  },
  {
   "cell_type": "code",
   "execution_count": 259,
   "id": "45ccb3ee-6174-4233-bcdd-0e515c00e0de",
   "metadata": {},
   "outputs": [
    {
     "name": "stdout",
     "output_type": "stream",
     "text": [
      "ERROR:tensorflow:==================================\n",
      "Object was never used (type <class 'tensorflow.python.ops.tensor_array_ops.TensorArray'>):\n",
      "<tensorflow.python.ops.tensor_array_ops.TensorArray object at 0x7fbbb43995e0>\n",
      "If you want to mark it as used call its \"mark_used()\" method.\n",
      "It was originally created here:\n",
      "  File \"/home/pta0054/anaconda3/envs/tf/lib/python3.9/site-packages/keras/backend.py\", line 5130, in <genexpr>\n",
      "    ta.write(ta_index_to_write, out)  File \"/home/pta0054/anaconda3/envs/tf/lib/python3.9/site-packages/tensorflow/python/util/tf_should_use.py\", line 243, in wrapped\n",
      "    return _add_should_use_warning(fn(*args, **kwargs),\n",
      "==================================\n"
     ]
    }
   ],
   "source": [
    "# Extract words from tweets\n",
    "df_all['OriginalTweetWords'] = df_all['OriginalTweetNoMentionsAndNoURL'].apply(form_sentence)"
   ]
  },
  {
   "cell_type": "code",
   "execution_count": 260,
   "id": "093afff0-f5da-4194-bbb2-db7c7dfa7fcf",
   "metadata": {},
   "outputs": [
    {
     "data": {
      "text/html": [
       "<div>\n",
       "<style scoped>\n",
       "    .dataframe tbody tr th:only-of-type {\n",
       "        vertical-align: middle;\n",
       "    }\n",
       "\n",
       "    .dataframe tbody tr th {\n",
       "        vertical-align: top;\n",
       "    }\n",
       "\n",
       "    .dataframe thead th {\n",
       "        text-align: right;\n",
       "    }\n",
       "</style>\n",
       "<table border=\"1\" class=\"dataframe\">\n",
       "  <thead>\n",
       "    <tr style=\"text-align: right;\">\n",
       "      <th></th>\n",
       "      <th>OriginalTweet</th>\n",
       "      <th>OriginalTweetWords</th>\n",
       "    </tr>\n",
       "  </thead>\n",
       "  <tbody>\n",
       "    <tr>\n",
       "      <th>0</th>\n",
       "      <td>@MeNyrbie @Phil_Gahan @Chrisitv https://t.co/i...</td>\n",
       "      <td>[and, and]</td>\n",
       "    </tr>\n",
       "    <tr>\n",
       "      <th>1</th>\n",
       "      <td>advice Talk to your neighbours family to excha...</td>\n",
       "      <td>[advice, Talk, to, your, neighbours, family, t...</td>\n",
       "    </tr>\n",
       "    <tr>\n",
       "      <th>2</th>\n",
       "      <td>Coronavirus Australia: Woolworths to give elde...</td>\n",
       "      <td>[Coronavirus, Australia, Woolworths, to, give,...</td>\n",
       "    </tr>\n",
       "    <tr>\n",
       "      <th>3</th>\n",
       "      <td>My food stock is not the only one which is emp...</td>\n",
       "      <td>[My, food, stock, is, not, the, only, one, whi...</td>\n",
       "    </tr>\n",
       "    <tr>\n",
       "      <th>4</th>\n",
       "      <td>Me, ready to go at supermarket during the #COV...</td>\n",
       "      <td>[Me, ready, to, go, at, supermarket, during, t...</td>\n",
       "    </tr>\n",
       "  </tbody>\n",
       "</table>\n",
       "</div>"
      ],
      "text/plain": [
       "                                       OriginalTweet  \\\n",
       "0  @MeNyrbie @Phil_Gahan @Chrisitv https://t.co/i...   \n",
       "1  advice Talk to your neighbours family to excha...   \n",
       "2  Coronavirus Australia: Woolworths to give elde...   \n",
       "3  My food stock is not the only one which is emp...   \n",
       "4  Me, ready to go at supermarket during the #COV...   \n",
       "\n",
       "                                  OriginalTweetWords  \n",
       "0                                         [and, and]  \n",
       "1  [advice, Talk, to, your, neighbours, family, t...  \n",
       "2  [Coronavirus, Australia, Woolworths, to, give,...  \n",
       "3  [My, food, stock, is, not, the, only, one, whi...  \n",
       "4  [Me, ready, to, go, at, supermarket, during, t...  "
      ]
     },
     "execution_count": 260,
     "metadata": {},
     "output_type": "execute_result"
    }
   ],
   "source": [
    "df_all.loc[:, [\"OriginalTweet\", \"OriginalTweetWords\"]].head()"
   ]
  },
  {
   "cell_type": "code",
   "execution_count": 261,
   "id": "b5f70ce6-5296-42f4-b81f-1ca84c027945",
   "metadata": {},
   "outputs": [
    {
     "name": "stdout",
     "output_type": "stream",
     "text": [
      "[]\n",
      "---------\n",
      "['advice', 'talk', 'neighbours', 'family', 'exchange', 'phone', 'numbers', 'create', 'contact', 'list', 'phone', 'numbers', 'neighbours', 'schools', 'employer', 'chemist', 'gp', 'set', 'online', 'shopping', 'accounts', 'poss', 'adequate', 'supplies', 'regular', 'meds', 'order']\n",
      "---------\n",
      "['coronavirus', 'australia', 'woolworths', 'give', 'elderly', 'disabled', 'dedicated', 'shopping', 'hours', 'amid', 'covid', 'outbreak']\n",
      "---------\n",
      "['food', 'stock', 'one', 'empty', 'please', 'nt', 'panic', 'enough', 'food', 'everyone', 'take', 'need', 'stay', 'calm', 'stay', 'safe', 'covidfrance', 'covid_', 'covid', 'coronavirus', 'confinement', 'confinementotal', 'confinementgeneral']\n",
      "---------\n",
      "['ready', 'go', 'supermarket', 'covid', 'outbreak', 'paranoid', 'food', 'stock', 'litteraly', 'empty', 'coronavirus', 'serious', 'thing', 'please', 'nt', 'panic', 'causes', 'shortage', 'coronavirusfrance', 'restezchezvous', 'stayathome', 'confinement']\n",
      "---------\n",
      "['news', 'regionas', 'first', 'confirmed', 'covid', 'case', 'came', 'sullivan', 'county', 'last', 'week', 'people', 'flocked', 'area', 'stores', 'purchase', 'cleaning', 'supplies', 'hand', 'sanitizer', 'food', 'toilet', 'paper', 'goods', 'reports']\n",
      "---------\n",
      "['cashier', 'grocery', 'store', 'sharing', 'insights', 'covid_', 'prove', 'credibility', 'commented', 'civics', 'class', 'know', 'talking']\n",
      "---------\n",
      "['supermarket', 'today', 'nt', 'buy', 'toilet', 'paper', 'rebel', 'toiletpapercrisis', 'covid_']\n",
      "---------\n",
      "['due', 'covid', 'retail', 'store', 'classroom', 'atlanta', 'open', 'walkin', 'business', 'classes', 'next', 'two', 'weeks', 'beginning', 'monday', 'march', 'continue', 'process', 'online', 'phone', 'orders', 'normal', 'thank', 'understanding']\n",
      "---------\n",
      "['corona', 'prevention', 'stop', 'buy', 'things', 'cash', 'use', 'online', 'payment', 'methods', 'corona', 'spread', 'notes', 'also', 'prefer', 'online', 'shopping', 'home', 'time', 'fight', 'covid', 'govindia', 'indiafightscorona']\n",
      "---------\n"
     ]
    }
   ],
   "source": [
    "# Normalize words\n",
    "# - remove non ascii characters\n",
    "# - change everything to lowercase\n",
    "# - remove punctuation\n",
    "# - remove numbers\n",
    "# - remove stopwords\n",
    "df_all[\"OriginalTweetWordsNormalized\"] = df_all[\"OriginalTweetWords\"].apply(normalize)\n",
    "# Take a detailed look on tweets\n",
    "for i in range(0, 10):\n",
    "    x = df_all.iloc[i]\n",
    "    print(x[\"OriginalTweetWordsNormalized\"])\n",
    "    print('---------')\n",
    "#df_all.loc[:, [\"OriginalTweet\", \"OriginalTweetWordsNormalized\"]].head()"
   ]
  },
  {
   "cell_type": "code",
   "execution_count": 262,
   "id": "28ec3ce0-2732-46ca-85b3-2c896d7060bd",
   "metadata": {},
   "outputs": [],
   "source": [
    "# Fix broken \"do - n't\" words\n",
    "df_all['OriginalTweetWordsNormalized'] = df_all['OriginalTweetWordsNormalized'].apply(fix_nt)"
   ]
  },
  {
   "cell_type": "code",
   "execution_count": 263,
   "id": "8fecac60-19ce-4c44-b854-5dd5e03d9db5",
   "metadata": {},
   "outputs": [
    {
     "data": {
      "text/html": [
       "<div>\n",
       "<style scoped>\n",
       "    .dataframe tbody tr th:only-of-type {\n",
       "        vertical-align: middle;\n",
       "    }\n",
       "\n",
       "    .dataframe tbody tr th {\n",
       "        vertical-align: top;\n",
       "    }\n",
       "\n",
       "    .dataframe thead th {\n",
       "        text-align: right;\n",
       "    }\n",
       "</style>\n",
       "<table border=\"1\" class=\"dataframe\">\n",
       "  <thead>\n",
       "    <tr style=\"text-align: right;\">\n",
       "      <th></th>\n",
       "      <th>CleanText</th>\n",
       "    </tr>\n",
       "  </thead>\n",
       "  <tbody>\n",
       "    <tr>\n",
       "      <th>0</th>\n",
       "      <td></td>\n",
       "    </tr>\n",
       "    <tr>\n",
       "      <th>1</th>\n",
       "      <td>advice talk neighbours family exchange phone n...</td>\n",
       "    </tr>\n",
       "    <tr>\n",
       "      <th>2</th>\n",
       "      <td>coronavirus australia woolworths give elderly ...</td>\n",
       "    </tr>\n",
       "    <tr>\n",
       "      <th>3</th>\n",
       "      <td>food stock one empty pleasen't panic enough fo...</td>\n",
       "    </tr>\n",
       "    <tr>\n",
       "      <th>4</th>\n",
       "      <td>ready go supermarket covid outbreak paranoid f...</td>\n",
       "    </tr>\n",
       "  </tbody>\n",
       "</table>\n",
       "</div>"
      ],
      "text/plain": [
       "                                           CleanText\n",
       "0                                                   \n",
       "1  advice talk neighbours family exchange phone n...\n",
       "2  coronavirus australia woolworths give elderly ...\n",
       "3  food stock one empty pleasen't panic enough fo...\n",
       "4  ready go supermarket covid outbreak paranoid f..."
      ]
     },
     "execution_count": 263,
     "metadata": {},
     "output_type": "execute_result"
    }
   ],
   "source": [
    "# Now join words into string for each tweet\n",
    "df_all['CleanText'] = df_all['OriginalTweetWordsNormalized'].apply(lambda x: \" \".join(x))\n",
    "df_all.loc[:, [\"CleanText\"]].head()"
   ]
  },
  {
   "cell_type": "code",
   "execution_count": 264,
   "id": "2b8ee66d-e86a-4c43-9e0a-3dfb78d4cdbb",
   "metadata": {},
   "outputs": [],
   "source": [
    "# See most frequent words\n",
    "# Tokenize every string and merge the token array into one big array\n",
    "all_words = list(itertools.chain(*df_all.OriginalTweetWordsNormalized))"
   ]
  },
  {
   "cell_type": "code",
   "execution_count": 265,
   "id": "654531cb-a8b0-4aee-abd0-d64b4bfd09bb",
   "metadata": {},
   "outputs": [],
   "source": [
    "# Compute frequency of every token \n",
    "dist = nltk.FreqDist(all_words)"
   ]
  },
  {
   "cell_type": "code",
   "execution_count": 266,
   "id": "25f27e96-1d2f-4770-93cb-b7bc63160d40",
   "metadata": {},
   "outputs": [
    {
     "data": {
      "text/plain": [
       "FreqDist({'covid': 17111, 'coronavirus': 15062, 'food': 8164, 'prices': 7896, 'store': 7659, 'supermarket': 7310, 'grocery': 7039, 'people': 6157, 'amp': 5749, 'consumer': 4621, ...})"
      ]
     },
     "execution_count": 266,
     "metadata": {},
     "output_type": "execute_result"
    }
   ],
   "source": [
    "# The most common tokens are\n",
    "dist"
   ]
  },
  {
   "cell_type": "code",
   "execution_count": 267,
   "id": "3c03ecc7-1e67-49cc-a818-f495fc13f74f",
   "metadata": {},
   "outputs": [
    {
     "data": {
      "text/plain": [
       "47952"
      ]
     },
     "execution_count": 267,
     "metadata": {},
     "output_type": "execute_result"
    }
   ],
   "source": [
    "# Number of unique words in train dataset\n",
    "len(dist)"
   ]
  },
  {
   "cell_type": "code",
   "execution_count": 268,
   "id": "6439bbad-48d1-4cbf-bd68-d024860bced6",
   "metadata": {},
   "outputs": [
    {
     "data": {
      "text/plain": [
       "41"
      ]
     },
     "execution_count": 268,
     "metadata": {},
     "output_type": "execute_result"
    }
   ],
   "source": [
    "# What is the longest tweet\n",
    "max(df_all.OriginalTweetWordsNormalized.apply(len))"
   ]
  },
  {
   "cell_type": "markdown",
   "id": "649fe8b9-34be-4466-beaf-ea0f70e89678",
   "metadata": {},
   "source": [
    "## Vlastní model RNN\n"
   ]
  },
  {
   "cell_type": "code",
   "execution_count": 164,
   "id": "2906b014-64f0-45dd-9771-e85e70e063a9",
   "metadata": {},
   "outputs": [],
   "source": [
    "embedding_dim = 128 # Dimension of embedded representation - this is already part of latent space, there is captured some dependecy among words, we are learning this vectors in ANN\n",
    "vocab_size = 50000 # Number of unique tokens in vocabulary\n",
    "sequence_length = 41 # Output dimension after vectorizing - words in vectorited representation are independent\n",
    "\n",
    "vect_layer = tf.keras.layers.TextVectorization(max_tokens=vocab_size, output_mode='int', output_sequence_length=sequence_length)\n",
    "vect_layer.adapt(df_all.CleanText.values)"
   ]
  },
  {
   "cell_type": "code",
   "execution_count": 165,
   "id": "98b8bba8-afdf-4185-8f10-5046d3006b9c",
   "metadata": {},
   "outputs": [],
   "source": [
    "# Split df_all to Train and Test df\n",
    "X_train, X_test, y_train, y_test = train_test_split(df_all.CleanText, df_all.Sentiment, test_size=0.20, random_state=13, stratify=df_all.Sentiment)"
   ]
  },
  {
   "cell_type": "code",
   "execution_count": 166,
   "id": "5d49ee83-a2f2-41c3-abf3-d919f789c83f",
   "metadata": {},
   "outputs": [],
   "source": [
    "# Split train df into Train and Validation\n",
    "X_train, X_valid, y_train, y_valid = train_test_split(X_train, y_train, test_size=0.1, random_state=13, stratify=y_train)"
   ]
  },
  {
   "cell_type": "code",
   "execution_count": 185,
   "id": "14621957-140b-437f-8707-e9e4c4c849cc",
   "metadata": {},
   "outputs": [],
   "source": [
    "# Encode and One hot encode y_train, y_test, y_valid\n",
    "label_encoder = sklearn.preprocessing.LabelEncoder()\n",
    "y_train_encoded = label_encoder.fit_transform(y_train)\n",
    "y_train_one_hot = tf.keras.utils.to_categorical(y_train_encoded, num_classes= df_all.Sentiment.unique().shape[0])\n",
    "\n",
    "y_test_encoded = label_encoder.transform(y_test)\n",
    "y_test_one_hot = tf.keras.utils.to_categorical(y_test_encoded, num_classes= df_all.Sentiment.unique().shape[0])\n",
    "\n",
    "y_valid_encoded = label_encoder.transform(y_valid)\n",
    "y_valid_one_hot = tf.keras.utils.to_categorical(y_valid_encoded, num_classes= df_all.Sentiment.unique().shape[0])"
   ]
  },
  {
   "cell_type": "code",
   "execution_count": 168,
   "id": "f792a8b2-463b-4479-aef3-657768cf4813",
   "metadata": {},
   "outputs": [
    {
     "name": "stdout",
     "output_type": "stream",
     "text": [
      "(32367,) (8991,) (3597,)\n"
     ]
    }
   ],
   "source": [
    "# Sizes of train, test and validation datasets\n",
    "print(X_train.shape, X_test.shape, X_valid.shape)"
   ]
  },
  {
   "cell_type": "code",
   "execution_count": 169,
   "id": "ccb8d27c-77da-4f36-8075-f8abd83f20ed",
   "metadata": {},
   "outputs": [
    {
     "name": "stdout",
     "output_type": "stream",
     "text": [
      "Train\n",
      "Positive              8906\n",
      "Negative              7889\n",
      "Neutral               5999\n",
      "Extremely Positive    5201\n",
      "Extremely Negative    4372\n",
      "Name: Sentiment, dtype: int64\n",
      "Test\n",
      "Positive              2474\n",
      "Negative              2192\n",
      "Neutral               1666\n",
      "Extremely Positive    1444\n",
      "Extremely Negative    1215\n",
      "Name: Sentiment, dtype: int64\n",
      "Validation\n",
      "Positive              989\n",
      "Negative              877\n",
      "Neutral               667\n",
      "Extremely Positive    578\n",
      "Extremely Negative    486\n",
      "Name: Sentiment, dtype: int64\n"
     ]
    }
   ],
   "source": [
    "# Balance of classes of sentiment\n",
    "print('Train')\n",
    "print(y_train.value_counts())\n",
    "print('Test')\n",
    "print(y_test.value_counts())\n",
    "print(\"Validation\")\n",
    "print(y_valid.value_counts())\n"
   ]
  },
  {
   "cell_type": "code",
   "execution_count": 170,
   "id": "479f1bbc-0fee-41fe-96e0-b8447b7aee8a",
   "metadata": {},
   "outputs": [
    {
     "name": "stdout",
     "output_type": "stream",
     "text": [
      "Vocabulary example:  ['', '[UNK]', 'covid', 'coronavirus', 'food', 'prices', 'store', 'supermarket', 'grocery', 'people']\n",
      "Vocabulary shape:  47895\n"
     ]
    }
   ],
   "source": [
    "# Take a look at vocabulary\n",
    "print('Vocabulary example: ', vect_layer.get_vocabulary()[:10])\n",
    "print('Vocabulary shape: ', len(vect_layer.get_vocabulary()))"
   ]
  },
  {
   "cell_type": "markdown",
   "id": "4f3a0bc5-6f14-44bd-8134-19a5bb68e3b9",
   "metadata": {},
   "source": [
    "### Experiment 1"
   ]
  },
  {
   "cell_type": "code",
   "execution_count": 210,
   "id": "a1e44b11-e421-444f-9619-60cf899f04e5",
   "metadata": {},
   "outputs": [
    {
     "name": "stdout",
     "output_type": "stream",
     "text": [
      "Model: \"model_3\"\n",
      "_________________________________________________________________\n",
      " Layer (type)                Output Shape              Param #   \n",
      "=================================================================\n",
      " input_4 (InputLayer)        [(None, 1)]               0         \n",
      "                                                                 \n",
      " text_vectorization_3 (TextV  (None, 41)               0         \n",
      " ectorization)                                                   \n",
      "                                                                 \n",
      " embedding_3 (Embedding)     (None, 41, 128)           6400000   \n",
      "                                                                 \n",
      " bidirectional_3 (Bidirectio  (None, 41, 512)          592896    \n",
      " nal)                                                            \n",
      "                                                                 \n",
      " global_average_pooling1d_3   (None, 512)              0         \n",
      " (GlobalAveragePooling1D)                                        \n",
      "                                                                 \n",
      " flatten_3 (Flatten)         (None, 512)               0         \n",
      "                                                                 \n",
      " dense_9 (Dense)             (None, 64)                32832     \n",
      "                                                                 \n",
      " dropout_6 (Dropout)         (None, 64)                0         \n",
      "                                                                 \n",
      " dense_10 (Dense)            (None, 32)                2080      \n",
      "                                                                 \n",
      " dropout_7 (Dropout)         (None, 32)                0         \n",
      "                                                                 \n",
      " dense_11 (Dense)            (None, 5)                 165       \n",
      "                                                                 \n",
      "=================================================================\n",
      "Total params: 7,027,973\n",
      "Trainable params: 7,027,973\n",
      "Non-trainable params: 0\n",
      "_________________________________________________________________\n"
     ]
    }
   ],
   "source": [
    "# Build own RNN model\n",
    "input_layer = tf.keras.layers.Input(shape=(1,), dtype=tf.string)\n",
    "x_v = vect_layer(input_layer)\n",
    "emb = tf.keras.layers.Embedding(vocab_size, embedding_dim)(x_v)\n",
    "#x = tf.keras.layers.LSTM(256, activation='relu', return_sequences=True)(emb)\n",
    "#x = tf.keras.layers.GRU(256, activation='relu', return_sequences=True)(x)\n",
    "x = tf.keras.layers.Bidirectional(tf.keras.layers.GRU(256, return_sequences=True))(emb)\n",
    "x = tf.keras.layers.GlobalAveragePooling1D()(x)\n",
    "x = tf.keras.layers.Flatten()(x)\n",
    "x = tf.keras.layers.Dense(64, 'relu')(x)\n",
    "x = tf.keras.layers.Dropout(0.2)(x)\n",
    "x = tf.keras.layers.Dense(32, 'relu')(x)\n",
    "x = tf.keras.layers.Dropout(0.2)(x)\n",
    "output_layer = tf.keras.layers.Dense(df_all.Sentiment.unique().shape[0], 'softmax')(x)\n",
    "\n",
    "model = tf.keras.Model(input_layer, output_layer)\n",
    "model.summary()\n",
    "\n",
    "model.compile(optimizer=tf.keras.optimizers.RMSprop(), loss=tf.keras.losses.CategoricalCrossentropy(from_logits=False), metrics=tf.keras.metrics.CategoricalAccuracy())"
   ]
  },
  {
   "cell_type": "code",
   "execution_count": 213,
   "id": "d4d3e424-3f88-414e-91a8-bbf360b9c4fe",
   "metadata": {},
   "outputs": [
    {
     "name": "stdout",
     "output_type": "stream",
     "text": [
      "Epoch 1/20\n",
      "506/506 [==============================] - 43s 86ms/step - loss: 1.0140 - categorical_accuracy: 0.5981 - val_loss: 0.8861 - val_categorical_accuracy: 0.6681\n",
      "Epoch 2/20\n",
      "506/506 [==============================] - 41s 81ms/step - loss: 0.7697 - categorical_accuracy: 0.7224 - val_loss: 0.8187 - val_categorical_accuracy: 0.6917\n",
      "Epoch 3/20\n",
      "506/506 [==============================] - 41s 82ms/step - loss: 0.6385 - categorical_accuracy: 0.7856 - val_loss: 0.8664 - val_categorical_accuracy: 0.6961\n",
      "Epoch 4/20\n",
      "506/506 [==============================] - 44s 86ms/step - loss: 0.5336 - categorical_accuracy: 0.8248 - val_loss: 0.8914 - val_categorical_accuracy: 0.6820\n",
      "Epoch 5/20\n",
      "506/506 [==============================] - 43s 86ms/step - loss: 0.4576 - categorical_accuracy: 0.8534 - val_loss: 0.9497 - val_categorical_accuracy: 0.6822\n",
      "Epoch 6/20\n",
      "506/506 [==============================] - 44s 88ms/step - loss: 0.3923 - categorical_accuracy: 0.8762 - val_loss: 1.0193 - val_categorical_accuracy: 0.6783\n",
      "Epoch 7/20\n",
      "506/506 [==============================] - 45s 88ms/step - loss: 0.3398 - categorical_accuracy: 0.8969 - val_loss: 1.0042 - val_categorical_accuracy: 0.6708\n",
      "Epoch 8/20\n",
      "506/506 [==============================] - 44s 86ms/step - loss: 0.2954 - categorical_accuracy: 0.9086 - val_loss: 1.2807 - val_categorical_accuracy: 0.6578\n",
      "Epoch 9/20\n",
      "506/506 [==============================] - 45s 89ms/step - loss: 0.2561 - categorical_accuracy: 0.9201 - val_loss: 1.2752 - val_categorical_accuracy: 0.6436\n",
      "Epoch 10/20\n",
      "506/506 [==============================] - 44s 87ms/step - loss: 0.2202 - categorical_accuracy: 0.9320 - val_loss: 1.2707 - val_categorical_accuracy: 0.6380\n",
      "Epoch 11/20\n",
      "506/506 [==============================] - 48s 95ms/step - loss: 0.1900 - categorical_accuracy: 0.9417 - val_loss: 1.4783 - val_categorical_accuracy: 0.6272\n",
      "Epoch 12/20\n",
      "506/506 [==============================] - 44s 87ms/step - loss: 0.1691 - categorical_accuracy: 0.9489 - val_loss: 1.6643 - val_categorical_accuracy: 0.6244\n",
      "Epoch 13/20\n",
      "506/506 [==============================] - 46s 91ms/step - loss: 0.1432 - categorical_accuracy: 0.9556 - val_loss: 1.9583 - val_categorical_accuracy: 0.6230\n",
      "Epoch 14/20\n",
      "506/506 [==============================] - 46s 92ms/step - loss: 0.1266 - categorical_accuracy: 0.9605 - val_loss: 2.2446 - val_categorical_accuracy: 0.6036\n",
      "Epoch 15/20\n",
      "506/506 [==============================] - 46s 91ms/step - loss: 0.1079 - categorical_accuracy: 0.9667 - val_loss: 2.3462 - val_categorical_accuracy: 0.5999\n",
      "Epoch 16/20\n",
      "506/506 [==============================] - 45s 88ms/step - loss: 0.0966 - categorical_accuracy: 0.9711 - val_loss: 2.0134 - val_categorical_accuracy: 0.5877\n",
      "Epoch 17/20\n",
      "506/506 [==============================] - 46s 90ms/step - loss: 0.0861 - categorical_accuracy: 0.9740 - val_loss: 2.4660 - val_categorical_accuracy: 0.5999\n",
      "Epoch 18/20\n",
      "506/506 [==============================] - 47s 93ms/step - loss: 0.0752 - categorical_accuracy: 0.9776 - val_loss: 2.8621 - val_categorical_accuracy: 0.6055\n",
      "Epoch 19/20\n",
      "506/506 [==============================] - 45s 89ms/step - loss: 0.0705 - categorical_accuracy: 0.9787 - val_loss: 2.6800 - val_categorical_accuracy: 0.6024\n",
      "Epoch 20/20\n",
      "506/506 [==============================] - 44s 87ms/step - loss: 0.0642 - categorical_accuracy: 0.9818 - val_loss: 3.1859 - val_categorical_accuracy: 0.5894\n"
     ]
    },
    {
     "data": {
      "image/png": "[encoded data removed]",
      "text/plain": [
       "<Figure size 432x288 with 1 Axes>"
      ]
     },
     "metadata": {
      "needs_background": "light"
     },
     "output_type": "display_data"
    }
   ],
   "source": [
    "# Create checkpoint\n",
    "model_checkpoint_callback = tf.keras.callbacks.ModelCheckpoint(\n",
    "    filepath='weights.best.tf',\n",
    "    save_weights_only=True,\n",
    "    monitor='val_loss',\n",
    "    mode='auto',\n",
    "    save_best_only=True)\n",
    "\n",
    "# Train Model\n",
    "batch_size = 64\n",
    "epochs = 20\n",
    "\n",
    "history = model.fit(X_train.values, y_train_one_hot, validation_data=(X_valid.values, y_valid_one_hot), callbacks=[model_checkpoint_callback], epochs=epochs, batch_size=batch_size)\n",
    "\n",
    "show_history(history)"
   ]
  },
  {
   "cell_type": "markdown",
   "id": "03d246bc-fc04-4abf-9487-cf689ea87767",
   "metadata": {},
   "source": [
    "### Experiment 2"
   ]
  },
  {
   "cell_type": "code",
   "execution_count": 214,
   "id": "7ba7df1b-ecb9-4b82-9108-7a979987d80a",
   "metadata": {},
   "outputs": [
    {
     "name": "stdout",
     "output_type": "stream",
     "text": [
      "WARNING:tensorflow:Layer lstm_2 will not use cuDNN kernels since it doesn't meet the criteria. It will use a generic GPU kernel as fallback when running on GPU.\n",
      "WARNING:tensorflow:Layer gru_6 will not use cuDNN kernels since it doesn't meet the criteria. It will use a generic GPU kernel as fallback when running on GPU.\n",
      "Model: \"model_4\"\n",
      "_________________________________________________________________\n",
      " Layer (type)                Output Shape              Param #   \n",
      "=================================================================\n",
      " input_5 (InputLayer)        [(None, 1)]               0         \n",
      "                                                                 \n",
      " text_vectorization_3 (TextV  (None, 41)               0         \n",
      " ectorization)                                                   \n",
      "                                                                 \n",
      " embedding_4 (Embedding)     (None, 41, 128)           6400000   \n",
      "                                                                 \n",
      " lstm_2 (LSTM)               (None, 41, 64)            49408     \n",
      "                                                                 \n",
      " gru_6 (GRU)                 (None, 41, 64)            24960     \n",
      "                                                                 \n",
      " global_average_pooling1d_4   (None, 64)               0         \n",
      " (GlobalAveragePooling1D)                                        \n",
      "                                                                 \n",
      " flatten_4 (Flatten)         (None, 64)                0         \n",
      "                                                                 \n",
      " dense_12 (Dense)            (None, 64)                4160      \n",
      "                                                                 \n",
      " dropout_8 (Dropout)         (None, 64)                0         \n",
      "                                                                 \n",
      " dense_13 (Dense)            (None, 32)                2080      \n",
      "                                                                 \n",
      " dropout_9 (Dropout)         (None, 32)                0         \n",
      "                                                                 \n",
      " dense_14 (Dense)            (None, 5)                 165       \n",
      "                                                                 \n",
      "=================================================================\n",
      "Total params: 6,480,773\n",
      "Trainable params: 6,480,773\n",
      "Non-trainable params: 0\n",
      "_________________________________________________________________\n"
     ]
    }
   ],
   "source": [
    "# Build own RNN model\n",
    "input_layer = tf.keras.layers.Input(shape=(1,), dtype=tf.string)\n",
    "x_v = vect_layer(input_layer)\n",
    "emb = tf.keras.layers.Embedding(vocab_size, embedding_dim)(x_v)\n",
    "x = tf.keras.layers.LSTM(64, activation='relu', return_sequences=True)(emb)\n",
    "x = tf.keras.layers.GRU(64, activation='relu', return_sequences=True)(x)\n",
    "#x = tf.keras.layers.Bidirectional(tf.keras.layers.GRU(256, return_sequences=True))(emb)\n",
    "x = tf.keras.layers.GlobalAveragePooling1D()(x)\n",
    "x = tf.keras.layers.Flatten()(x)\n",
    "x = tf.keras.layers.Dense(64, 'relu')(x)\n",
    "x = tf.keras.layers.Dropout(0.4)(x)\n",
    "x = tf.keras.layers.Dense(32, 'relu')(x)\n",
    "x = tf.keras.layers.Dropout(0.4)(x)\n",
    "output_layer = tf.keras.layers.Dense(df_all.Sentiment.unique().shape[0], 'softmax')(x)\n",
    "\n",
    "model = tf.keras.Model(input_layer, output_layer)\n",
    "model.summary()\n",
    "\n",
    "model.compile(optimizer=tf.keras.optimizers.RMSprop(), loss=tf.keras.losses.CategoricalCrossentropy(from_logits=False), metrics=tf.keras.metrics.CategoricalAccuracy())"
   ]
  },
  {
   "cell_type": "code",
   "execution_count": 216,
   "id": "cfd97f1b-72b8-4360-b843-964fa9f664cd",
   "metadata": {},
   "outputs": [
    {
     "name": "stdout",
     "output_type": "stream",
     "text": [
      "Epoch 1/10\n",
      "253/253 [==============================] - 148s 584ms/step - loss: 0.5282 - categorical_accuracy: 0.8397 - val_loss: 0.9872 - val_categorical_accuracy: 0.6761\n",
      "Epoch 2/10\n",
      "253/253 [==============================] - 138s 545ms/step - loss: 0.4642 - categorical_accuracy: 0.8613 - val_loss: 1.0130 - val_categorical_accuracy: 0.6731\n",
      "Epoch 3/10\n",
      "253/253 [==============================] - 138s 547ms/step - loss: 0.4072 - categorical_accuracy: 0.8786 - val_loss: 1.2019 - val_categorical_accuracy: 0.6653\n",
      "Epoch 4/10\n",
      "253/253 [==============================] - 140s 556ms/step - loss: 0.3619 - categorical_accuracy: 0.8947 - val_loss: 1.0988 - val_categorical_accuracy: 0.6689\n",
      "Epoch 5/10\n",
      "253/253 [==============================] - 150s 594ms/step - loss: 0.3145 - categorical_accuracy: 0.9078 - val_loss: 1.2910 - val_categorical_accuracy: 0.6633\n",
      "Epoch 6/10\n",
      "253/253 [==============================] - 142s 561ms/step - loss: 0.2794 - categorical_accuracy: 0.9180 - val_loss: 1.4184 - val_categorical_accuracy: 0.6583\n",
      "Epoch 7/10\n",
      "253/253 [==============================] - 144s 569ms/step - loss: 0.4428 - categorical_accuracy: 0.9284 - val_loss: 1.6954 - val_categorical_accuracy: 0.6125\n",
      "Epoch 8/10\n",
      "253/253 [==============================] - 148s 583ms/step - loss: 0.2214 - categorical_accuracy: 0.9333 - val_loss: 19.7140 - val_categorical_accuracy: 0.6316\n",
      "Epoch 9/10\n",
      "253/253 [==============================] - 142s 562ms/step - loss: 0.1979 - categorical_accuracy: 0.9419 - val_loss: 1.8981 - val_categorical_accuracy: 0.5972\n",
      "Epoch 10/10\n",
      "253/253 [==============================] - 153s 607ms/step - loss: 0.1832 - categorical_accuracy: 0.9466 - val_loss: 2.2814 - val_categorical_accuracy: 0.5802\n"
     ]
    },
    {
     "data": {
      "image/png": "[encoded data removed]",
      "text/plain": [
       "<Figure size 432x288 with 1 Axes>"
      ]
     },
     "metadata": {
      "needs_background": "light"
     },
     "output_type": "display_data"
    }
   ],
   "source": [
    "# Create checkpoint\n",
    "model_checkpoint_callback = tf.keras.callbacks.ModelCheckpoint(\n",
    "    filepath='weights.best.tf',\n",
    "    save_weights_only=True,\n",
    "    monitor='val_loss',\n",
    "    mode='auto',\n",
    "    save_best_only=True)\n",
    "\n",
    "# Train Model\n",
    "batch_size = 128\n",
    "epochs = 10\n",
    "\n",
    "history = model.fit(X_train.values, y_train_one_hot, validation_data=(X_valid.values, y_valid_one_hot), callbacks=[model_checkpoint_callback], epochs=epochs, batch_size=batch_size)\n",
    "\n",
    "show_history(history)"
   ]
  },
  {
   "cell_type": "code",
   "execution_count": 217,
   "id": "de71df25-450d-4c4a-b6a1-bca2adb0761a",
   "metadata": {},
   "outputs": [
    {
     "name": "stdout",
     "output_type": "stream",
     "text": [
      "281/281 [==============================] - 72s 255ms/step\n"
     ]
    }
   ],
   "source": [
    "# Load best setup\n",
    "model.load_weights(\"weights.best.tf\")\n",
    "# Make predictions on test data\n",
    "y_pred = model.predict(X_test).ravel()"
   ]
  },
  {
   "cell_type": "code",
   "execution_count": 232,
   "id": "ae228ceb-693c-4636-b946-233481865d2a",
   "metadata": {},
   "outputs": [
    {
     "name": "stdout",
     "output_type": "stream",
     "text": [
      "Accuracy on test data: 66.0 %\n"
     ]
    }
   ],
   "source": [
    "# Evaluate model on test dataset\n",
    "y_pred = y_pred.reshape((y_pred.shape[0] // 5 , 5))\n",
    "right = 0\n",
    "for index in range(0, y_pred.shape[0]):\n",
    "    i_predicted = np.argmax(y_pred[index])\n",
    "    i_real = np.argmax(y_test_one_hot[index])\n",
    "    if i_predicted == i_real:\n",
    "        right += 1;\n",
    "accuracy = right / y_pred.shape[0]\n",
    "print(f\"Accuracy on test data: {round(accuracy,2) * 100} %\")"
   ]
  },
  {
   "cell_type": "markdown",
   "id": "9f43d2bd-c91d-4954-a432-b6b29123959e",
   "metadata": {},
   "source": [
    "### Experiment 3"
   ]
  },
  {
   "cell_type": "code",
   "execution_count": 239,
   "id": "232745cc-162f-463b-9558-66481b59a89f",
   "metadata": {
    "tags": []
   },
   "outputs": [
    {
     "name": "stdout",
     "output_type": "stream",
     "text": [
      "Model: \"model_7\"\n",
      "_________________________________________________________________\n",
      " Layer (type)                Output Shape              Param #   \n",
      "=================================================================\n",
      " input_8 (InputLayer)        [(None, 1)]               0         \n",
      "                                                                 \n",
      " text_vectorization_3 (TextV  (None, 41)               0         \n",
      " ectorization)                                                   \n",
      "                                                                 \n",
      " embedding_7 (Embedding)     (None, 41, 128)           6400000   \n",
      "                                                                 \n",
      " bidirectional_7 (Bidirectio  (None, 41, 128)          98816     \n",
      " nal)                                                            \n",
      "                                                                 \n",
      " bidirectional_8 (Bidirectio  (None, 41, 128)          74496     \n",
      " nal)                                                            \n",
      "                                                                 \n",
      " global_average_pooling1d_7   (None, 128)              0         \n",
      " (GlobalAveragePooling1D)                                        \n",
      "                                                                 \n",
      " flatten_7 (Flatten)         (None, 128)               0         \n",
      "                                                                 \n",
      " dense_21 (Dense)            (None, 64)                8256      \n",
      "                                                                 \n",
      " dropout_14 (Dropout)        (None, 64)                0         \n",
      "                                                                 \n",
      " dense_22 (Dense)            (None, 32)                2080      \n",
      "                                                                 \n",
      " dropout_15 (Dropout)        (None, 32)                0         \n",
      "                                                                 \n",
      " dense_23 (Dense)            (None, 5)                 165       \n",
      "                                                                 \n",
      "=================================================================\n",
      "Total params: 6,583,813\n",
      "Trainable params: 6,583,813\n",
      "Non-trainable params: 0\n",
      "_________________________________________________________________\n"
     ]
    }
   ],
   "source": [
    "# Build own RNN model\n",
    "input_layer = tf.keras.layers.Input(shape=(1,), dtype=tf.string)\n",
    "x_v = vect_layer(input_layer)\n",
    "emb = tf.keras.layers.Embedding(vocab_size, embedding_dim)(x_v)\n",
    "#x = tf.keras.layers.LSTM(64, activation='relu', return_sequences=True)(emb)\n",
    "#x = tf.keras.layers.GRU(64, activation='relu', return_sequences=True)(x)\n",
    "x = tf.keras.layers.Bidirectional(tf.keras.layers.LSTM(64, return_sequences=True))(emb)\n",
    "x = tf.keras.layers.Bidirectional(tf.keras.layers.GRU(64, return_sequences=True))(x)\n",
    "x = tf.keras.layers.GlobalAveragePooling1D()(x)\n",
    "x = tf.keras.layers.Flatten()(x)\n",
    "x = tf.keras.layers.Dense(64, 'relu')(x)\n",
    "x = tf.keras.layers.Dropout(0.5)(x)\n",
    "x = tf.keras.layers.Dense(32, 'relu')(x)\n",
    "x = tf.keras.layers.Dropout(0.5)(x)\n",
    "output_layer = tf.keras.layers.Dense(df_all.Sentiment.unique().shape[0], 'softmax')(x)\n",
    "\n",
    "model = tf.keras.Model(input_layer, output_layer)\n",
    "model.summary()\n",
    "\n",
    "model.compile(optimizer=tf.keras.optimizers.RMSprop(), loss=tf.keras.losses.CategoricalCrossentropy(from_logits=False), metrics=tf.keras.metrics.CategoricalAccuracy())"
   ]
  },
  {
   "cell_type": "code",
   "execution_count": 240,
   "id": "73510516-93c5-4fb2-afb3-c3b00746345a",
   "metadata": {},
   "outputs": [
    {
     "name": "stdout",
     "output_type": "stream",
     "text": [
      "Epoch 1/10\n",
      "506/506 [==============================] - 57s 113ms/step - loss: 1.4197 - categorical_accuracy: 0.3697 - val_loss: 1.1121 - val_categorical_accuracy: 0.5549\n",
      "Epoch 2/10\n",
      "506/506 [==============================] - 58s 114ms/step - loss: 1.0402 - categorical_accuracy: 0.5996 - val_loss: 0.8975 - val_categorical_accuracy: 0.6575\n",
      "Epoch 3/10\n",
      "506/506 [==============================] - 57s 112ms/step - loss: 0.8399 - categorical_accuracy: 0.7117 - val_loss: 0.8968 - val_categorical_accuracy: 0.6694\n",
      "Epoch 4/10\n",
      "506/506 [==============================] - 57s 113ms/step - loss: 0.7227 - categorical_accuracy: 0.7642 - val_loss: 0.8763 - val_categorical_accuracy: 0.6964\n",
      "Epoch 5/10\n",
      "506/506 [==============================] - 56s 111ms/step - loss: 0.6394 - categorical_accuracy: 0.7982 - val_loss: 0.9436 - val_categorical_accuracy: 0.6900\n",
      "Epoch 6/10\n",
      "506/506 [==============================] - 56s 111ms/step - loss: 0.5621 - categorical_accuracy: 0.8274 - val_loss: 0.9553 - val_categorical_accuracy: 0.6811\n",
      "Epoch 7/10\n",
      "506/506 [==============================] - 58s 114ms/step - loss: 0.4954 - categorical_accuracy: 0.8522 - val_loss: 1.0558 - val_categorical_accuracy: 0.6842\n",
      "Epoch 8/10\n",
      "506/506 [==============================] - 57s 113ms/step - loss: 0.4394 - categorical_accuracy: 0.8713 - val_loss: 1.1060 - val_categorical_accuracy: 0.6775\n",
      "Epoch 9/10\n",
      "506/506 [==============================] - 59s 117ms/step - loss: 0.3832 - categorical_accuracy: 0.8883 - val_loss: 1.2226 - val_categorical_accuracy: 0.6536\n",
      "Epoch 10/10\n",
      "506/506 [==============================] - 56s 111ms/step - loss: 0.3452 - categorical_accuracy: 0.9019 - val_loss: 1.2508 - val_categorical_accuracy: 0.6619\n"
     ]
    },
    {
     "data": {
      "image/png": "[encoded data removed]",
      "text/plain": [
       "<Figure size 432x288 with 1 Axes>"
      ]
     },
     "metadata": {
      "needs_background": "light"
     },
     "output_type": "display_data"
    }
   ],
   "source": [
    "# Create checkpoint\n",
    "model_checkpoint_callback = tf.keras.callbacks.ModelCheckpoint(\n",
    "    filepath='weights.best.tf',\n",
    "    save_weights_only=True,\n",
    "    monitor='val_loss',\n",
    "    mode='auto',\n",
    "    save_best_only=True)\n",
    "\n",
    "# Train Model\n",
    "batch_size = 64\n",
    "epochs = 10\n",
    "\n",
    "history = model.fit(X_train.values, y_train_one_hot, validation_data=(X_valid.values, y_valid_one_hot), callbacks=[model_checkpoint_callback], epochs=epochs, batch_size=batch_size)\n",
    "\n",
    "show_history(history)"
   ]
  },
  {
   "cell_type": "code",
   "execution_count": 241,
   "id": "c814752e-71b1-470f-a6b3-9e9587dcb275",
   "metadata": {},
   "outputs": [
    {
     "name": "stdout",
     "output_type": "stream",
     "text": [
      "281/281 [==============================] - 11s 38ms/step\n",
      "Accuracy on test data: 70.0 %\n"
     ]
    }
   ],
   "source": [
    "# Load best setup\n",
    "model.load_weights(\"weights.best.tf\")\n",
    "\n",
    "# Make predictions on test data\n",
    "y_pred = model.predict(X_test).ravel()\n",
    "\n",
    "# Evaluate model on test dataset\n",
    "y_pred = y_pred.reshape((y_pred.shape[0] // 5 , 5))\n",
    "right = 0\n",
    "for index in range(0, y_pred.shape[0]):\n",
    "    i_predicted = np.argmax(y_pred[index])\n",
    "    i_real = np.argmax(y_test_one_hot[index])\n",
    "    if i_predicted == i_real:\n",
    "        right += 1;\n",
    "accuracy = right / y_pred.shape[0]\n",
    "print(f\"Accuracy on test data: {round(accuracy,2) * 100} %\")"
   ]
  },
  {
   "cell_type": "markdown",
   "id": "c6118c65-8001-4f99-b46a-0dfef168624c",
   "metadata": {},
   "source": [
    "### Shrnutí\n",
    "- Pro tento problém jsem si vyzkoušel definovat 3 modely rekurentních neuronových sítí.\n",
    "- Vyzkoušel jsem si použít jak vrstvu GRU, tak i LSTM. Obě v obousměrných verzích.\n",
    "- Nejlepších výsledků jsem dosáhl pro experiment číslo 3 (70 % přesnost pro testovací data). Kdy jsem využil dvě obousměrné vrstvy LSTM a GRU. Obě po 64 neuronech. Klasifikační část se skládá ze dvou dense vrstev s relu aktivační funkcí a dropouty. Klasifikace v poslední vrstvě se realizovala pomocí softmax aktivační funkce.\n",
    "- U všech experimentů jsem bojoval s problémem \"Overfitting\". Nakonec jsem došel k modelu použitému v experimentu číslo 3, kdy jsem omezil velikosti jednotlivých vrstev, přidal vyšší hodnoty pro dropout vrstvy a také jsem využil global average pooling vrstvu na výstup obou rekurentních vrstev.\n",
    "- Poznámka: Loss funkci jsem volil CategoricalCrossentropy, jelikož jsem skutečné hodnoty y kódoval pomocí one hot encoding. A metriku jsem zvolil CategoricalAccuracy, jelikož jsem usoudil, že kategorie jsou vybalancovány (díky použití stratifikace)."
   ]
  },
  {
   "cell_type": "markdown",
   "id": "6d26ff8c-76ae-40bc-920b-3d889d5a34bf",
   "metadata": {},
   "source": [
    "## Transfer Learning embeding vrstvy"
   ]
  },
  {
   "cell_type": "code",
   "execution_count": 242,
   "id": "a1b3e8d0-022b-453f-857b-996e6a0d762f",
   "metadata": {},
   "outputs": [
    {
     "name": "stdout",
     "output_type": "stream",
     "text": [
      "/bin/bash: /home/pta0054/anaconda3/envs/tf/lib/libtinfo.so.6: no version information available (required by /bin/bash)\n",
      "--2023-04-08 21:59:12--  http://nlp.stanford.edu/data/glove.6B.zip\n",
      "Resolving nlp.stanford.edu (nlp.stanford.edu)... 171.64.67.140\n",
      "Connecting to nlp.stanford.edu (nlp.stanford.edu)|171.64.67.140|:80... connected.\n",
      "HTTP request sent, awaiting response... 302 Found\n",
      "Location: https://nlp.stanford.edu/data/glove.6B.zip [following]\n",
      "--2023-04-08 21:59:12--  https://nlp.stanford.edu/data/glove.6B.zip\n",
      "Connecting to nlp.stanford.edu (nlp.stanford.edu)|171.64.67.140|:443... connected.\n",
      "HTTP request sent, awaiting response... 301 Moved Permanently\n",
      "Location: https://downloads.cs.stanford.edu/nlp/data/glove.6B.zip [following]\n",
      "--2023-04-08 21:59:13--  https://downloads.cs.stanford.edu/nlp/data/glove.6B.zip\n",
      "Resolving downloads.cs.stanford.edu (downloads.cs.stanford.edu)... 171.64.64.22\n",
      "Connecting to downloads.cs.stanford.edu (downloads.cs.stanford.edu)|171.64.64.22|:443... connected.\n",
      "HTTP request sent, awaiting response... 200 OK\n",
      "Length: 862182613 (822M) [application/zip]\n",
      "Saving to: ‘glove.6B.zip’\n",
      "\n",
      "glove.6B.zip        100%[===================>] 822.24M  5.12MB/s    in 2m 39s  \n",
      "\n",
      "2023-04-08 22:01:53 (5.16 MB/s) - ‘glove.6B.zip’ saved [862182613/862182613]\n",
      "\n",
      "/bin/bash: /home/pta0054/anaconda3/envs/tf/lib/libtinfo.so.6: no version information available (required by /bin/bash)\n",
      "/bin/bash: line 1: unzip: command not found\n"
     ]
    }
   ],
   "source": [
    "# Donwload glove pretrained embeding\n",
    "!wget http://nlp.stanford.edu/data/glove.6B.zip\n",
    "!unzip -q glove.6B.zip"
   ]
  },
  {
   "cell_type": "code",
   "execution_count": 243,
   "id": "8ea32c82-809a-4806-a5f4-f83698cad073",
   "metadata": {},
   "outputs": [
    {
     "name": "stdout",
     "output_type": "stream",
     "text": [
      "Found 400000 word vectors.\n"
     ]
    }
   ],
   "source": [
    "# Choose number of dimensions for glove. I Will go with 100d.\n",
    "path_to_glove_file = 'glove.6B.100d.txt'\n",
    "\n",
    "embeddings_index = {}\n",
    "with open(path_to_glove_file) as f:\n",
    "    for line in f:\n",
    "        word, coefs = line.split(maxsplit=1)\n",
    "        coefs = np.fromstring(coefs, \"f\", sep=\" \")\n",
    "        embeddings_index[word] = coefs\n",
    "\n",
    "print(\"Found %s word vectors.\" % len(embeddings_index))"
   ]
  },
  {
   "cell_type": "code",
   "execution_count": 269,
   "id": "9956b447-a3ae-4e4d-ab10-18f6dd03d355",
   "metadata": {},
   "outputs": [
    {
     "name": "stderr",
     "output_type": "stream",
     "text": [
      "/home/pta0054/anaconda3/envs/tf/lib/python3.9/site-packages/tensorflow/python/data/ops/structured_function.py:264: UserWarning: Even though the `tf.config.experimental_run_functions_eagerly` option is set, this option does not apply to tf.data functions. To force eager execution of tf.data functions, please use `tf.data.experimental.enable_debug_mode()`.\n",
      "  warnings.warn(\n"
     ]
    }
   ],
   "source": [
    "# get vocabulary from vectorizer and integer indexes\n",
    "embedding_dim = 100 # Embedding dimension -> GloVe 100\n",
    "vocab_size = 50000 # Number of unique tokens in vocabulary\n",
    "sequence_length = 40 # Output dimension after vectorizing - words in vectorited representation are independent\n",
    "\n",
    "vect_layer = tf.keras.layers.TextVectorization(max_tokens=vocab_size, output_mode='int', output_sequence_length=sequence_length)\n",
    "vect_layer.adapt(df_all.CleanText.values)\n",
    "\n",
    "voc = vect_layer.get_vocabulary()\n",
    "word_index = dict(zip(voc, range(len(voc))))"
   ]
  },
  {
   "cell_type": "code",
   "execution_count": 273,
   "id": "c928a4f6-7b14-4550-91b9-d3a504e95ca6",
   "metadata": {},
   "outputs": [
    {
     "name": "stdout",
     "output_type": "stream",
     "text": [
      "Converted 29028 words (18867 misses)\n"
     ]
    }
   ],
   "source": [
    "# Map int indices to the embedding vectors and save the mapping to the matrix\n",
    "num_tokens = len(voc) + 2\n",
    "hits = 0\n",
    "misses = 0\n",
    "\n",
    "# Prepare embedding matrix\n",
    "embedding_matrix = np.zeros((num_tokens, embedding_dim))\n",
    "for word, i in word_index.items():\n",
    "    embedding_vector = embeddings_index.get(word)\n",
    "    if embedding_vector is not None:\n",
    "        # Words not found in embedding index will be all-zeros.\n",
    "        # This includes the representation for \"padding\" and \"OOV\"\n",
    "        embedding_matrix[i] = embedding_vector\n",
    "        hits += 1\n",
    "    else:\n",
    "        misses += 1\n",
    "print(\"Converted %d words (%d misses)\" % (hits, misses))"
   ]
  },
  {
   "cell_type": "markdown",
   "id": "a5a7c488-1c9e-491f-89bd-70de06874826",
   "metadata": {},
   "source": [
    "### Model z experimentu č. 3"
   ]
  },
  {
   "cell_type": "code",
   "execution_count": 275,
   "id": "c6a718ed-427d-45c9-8497-4774d088ed81",
   "metadata": {},
   "outputs": [
    {
     "name": "stdout",
     "output_type": "stream",
     "text": [
      "Model: \"model_8\"\n",
      "_________________________________________________________________\n",
      " Layer (type)                Output Shape              Param #   \n",
      "=================================================================\n",
      " input_12 (InputLayer)       [(None, 1)]               0         \n",
      "                                                                 \n",
      " text_vectorization_5 (TextV  (None, 40)               0         \n",
      " ectorization)                                                   \n",
      "                                                                 \n",
      " embedding_8 (Embedding)     (None, 40, 100)           4789700   \n",
      "                                                                 \n",
      " bidirectional_9 (Bidirectio  (None, 40, 128)          84480     \n",
      " nal)                                                            \n",
      "                                                                 \n",
      " bidirectional_10 (Bidirecti  (None, 40, 128)          74496     \n",
      " onal)                                                           \n",
      "                                                                 \n",
      " global_average_pooling1d_8   (None, 128)              0         \n",
      " (GlobalAveragePooling1D)                                        \n",
      "                                                                 \n",
      " flatten_8 (Flatten)         (None, 128)               0         \n",
      "                                                                 \n",
      " dense_24 (Dense)            (None, 64)                8256      \n",
      "                                                                 \n",
      " dropout_16 (Dropout)        (None, 64)                0         \n",
      "                                                                 \n",
      " dense_25 (Dense)            (None, 32)                2080      \n",
      "                                                                 \n",
      " dropout_17 (Dropout)        (None, 32)                0         \n",
      "                                                                 \n",
      " dense_26 (Dense)            (None, 5)                 165       \n",
      "                                                                 \n",
      "=================================================================\n",
      "Total params: 4,959,177\n",
      "Trainable params: 169,477\n",
      "Non-trainable params: 4,789,700\n",
      "_________________________________________________________________\n"
     ]
    }
   ],
   "source": [
    "# Now use the Glove Embedding in the embedding layer \n",
    "# Build own RNN model\n",
    "input_layer = tf.keras.layers.Input(shape=(1,), dtype=tf.string)\n",
    "x_v = vect_layer(input_layer)\n",
    "emb = tf.keras.layers.Embedding(num_tokens, embedding_dim, embeddings_initializer=tf.keras.initializers.Constant(embedding_matrix), trainable=False)(x_v)\n",
    "#x = tf.keras.layers.LSTM(64, activation='relu', return_sequences=True)(emb)\n",
    "#x = tf.keras.layers.GRU(64, activation='relu', return_sequences=True)(x)\n",
    "x = tf.keras.layers.Bidirectional(tf.keras.layers.LSTM(64, return_sequences=True))(emb)\n",
    "x = tf.keras.layers.Bidirectional(tf.keras.layers.GRU(64, return_sequences=True))(x)\n",
    "x = tf.keras.layers.GlobalAveragePooling1D()(x)\n",
    "x = tf.keras.layers.Flatten()(x)\n",
    "x = tf.keras.layers.Dense(64, 'relu')(x)\n",
    "x = tf.keras.layers.Dropout(0.5)(x)\n",
    "x = tf.keras.layers.Dense(32, 'relu')(x)\n",
    "x = tf.keras.layers.Dropout(0.5)(x)\n",
    "output_layer = tf.keras.layers.Dense(df_all.Sentiment.unique().shape[0], 'softmax')(x)\n",
    "\n",
    "model = tf.keras.Model(input_layer, output_layer)\n",
    "model.summary()\n",
    "\n",
    "model.compile(optimizer=tf.keras.optimizers.RMSprop(), loss=tf.keras.losses.CategoricalCrossentropy(from_logits=False), metrics=tf.keras.metrics.CategoricalAccuracy())"
   ]
  },
  {
   "cell_type": "code",
   "execution_count": 278,
   "id": "8987aedc-28ca-4adc-adfd-5874d1acdf48",
   "metadata": {},
   "outputs": [
    {
     "name": "stdout",
     "output_type": "stream",
     "text": [
      "Epoch 1/10\n",
      "506/506 [==============================] - 91s 180ms/step - loss: 0.8182 - categorical_accuracy: 0.7015 - val_loss: 0.9007 - val_categorical_accuracy: 0.6617\n",
      "Epoch 2/10\n",
      "506/506 [==============================] - 90s 179ms/step - loss: 0.7801 - categorical_accuracy: 0.7180 - val_loss: 0.9029 - val_categorical_accuracy: 0.6580\n",
      "Epoch 3/10\n",
      "506/506 [==============================] - 97s 191ms/step - loss: 0.7552 - categorical_accuracy: 0.7294 - val_loss: 0.9167 - val_categorical_accuracy: 0.6636\n",
      "Epoch 4/10\n",
      "506/506 [==============================] - 103s 204ms/step - loss: 0.7121 - categorical_accuracy: 0.7459 - val_loss: 0.9808 - val_categorical_accuracy: 0.6722\n",
      "Epoch 5/10\n",
      "506/506 [==============================] - 109s 215ms/step - loss: 0.6843 - categorical_accuracy: 0.7618 - val_loss: 0.9387 - val_categorical_accuracy: 0.6678\n",
      "Epoch 6/10\n",
      "506/506 [==============================] - 97s 193ms/step - loss: 0.6544 - categorical_accuracy: 0.7697 - val_loss: 0.9834 - val_categorical_accuracy: 0.6753\n",
      "Epoch 7/10\n",
      "506/506 [==============================] - 98s 193ms/step - loss: 0.6287 - categorical_accuracy: 0.7803 - val_loss: 1.0391 - val_categorical_accuracy: 0.6753\n",
      "Epoch 8/10\n",
      "506/506 [==============================] - 90s 178ms/step - loss: 0.5995 - categorical_accuracy: 0.7938 - val_loss: 1.1118 - val_categorical_accuracy: 0.6708\n",
      "Epoch 9/10\n",
      "506/506 [==============================] - 94s 186ms/step - loss: 0.5704 - categorical_accuracy: 0.8046 - val_loss: 1.2642 - val_categorical_accuracy: 0.6700\n",
      "Epoch 10/10\n",
      "506/506 [==============================] - 90s 178ms/step - loss: 0.5390 - categorical_accuracy: 0.8157 - val_loss: 1.3484 - val_categorical_accuracy: 0.6750\n"
     ]
    },
    {
     "data": {
      "image/png": "[encoded data removed]",
      "text/plain": [
       "<Figure size 432x288 with 1 Axes>"
      ]
     },
     "metadata": {
      "needs_background": "light"
     },
     "output_type": "display_data"
    }
   ],
   "source": [
    "# Create checkpoint\n",
    "model_checkpoint_callback = tf.keras.callbacks.ModelCheckpoint(\n",
    "    filepath='weights.best.tf',\n",
    "    save_weights_only=True,\n",
    "    monitor='val_loss',\n",
    "    mode='auto',\n",
    "    save_best_only=True)\n",
    "\n",
    "# Train Model\n",
    "batch_size = 64\n",
    "epochs = 10\n",
    "\n",
    "history = model.fit(X_train.values, y_train_one_hot, validation_data=(X_valid.values, y_valid_one_hot), callbacks=[model_checkpoint_callback], epochs=epochs, batch_size=batch_size)\n",
    "\n",
    "show_history(history)"
   ]
  },
  {
   "cell_type": "code",
   "execution_count": 279,
   "id": "846c788d-fea9-49d8-b81a-c81c3dfeb0f7",
   "metadata": {},
   "outputs": [
    {
     "name": "stdout",
     "output_type": "stream",
     "text": [
      "281/281 [==============================] - 11s 38ms/step\n",
      "Accuracy on test data: 67.0 %\n"
     ]
    }
   ],
   "source": [
    "# Load best setup\n",
    "model.load_weights(\"weights.best.tf\")\n",
    "\n",
    "# Make predictions on test data\n",
    "y_pred = model.predict(X_test).ravel()\n",
    "\n",
    "# Evaluate model on test dataset\n",
    "y_pred = y_pred.reshape((y_pred.shape[0] // 5 , 5))\n",
    "right = 0\n",
    "for index in range(0, y_pred.shape[0]):\n",
    "    i_predicted = np.argmax(y_pred[index])\n",
    "    i_real = np.argmax(y_test_one_hot[index])\n",
    "    if i_predicted == i_real:\n",
    "        right += 1;\n",
    "accuracy = right / y_pred.shape[0]\n",
    "print(f\"Accuracy on test data: {round(accuracy,2) * 100} %\")"
   ]
  },
  {
   "cell_type": "code",
   "execution_count": 280,
   "id": "f9cf614c-0961-4bdd-92ff-317c5e13f252",
   "metadata": {},
   "outputs": [],
   "source": [
    "# FINE TUNING\n",
    "emb.trainable = True"
   ]
  },
  {
   "cell_type": "code",
   "execution_count": 282,
   "id": "b1d6aac3-c234-4862-ad28-a75a63b129ee",
   "metadata": {},
   "outputs": [],
   "source": [
    "model.compile(optimizer=tf.keras.optimizers.RMSprop(1e-5), loss=tf.keras.losses.CategoricalCrossentropy(from_logits=False), metrics=tf.keras.metrics.CategoricalAccuracy())"
   ]
  },
  {
   "cell_type": "code",
   "execution_count": 286,
   "id": "c1d92e87-fc0c-4182-9baf-e4d386acc387",
   "metadata": {},
   "outputs": [
    {
     "name": "stdout",
     "output_type": "stream",
     "text": [
      "Epoch 1/10\n",
      "1012/1012 [==============================] - 271s 268ms/step - loss: 0.6980 - categorical_accuracy: 0.7577 - val_loss: 0.9061 - val_categorical_accuracy: 0.6825\n",
      "Epoch 2/10\n",
      "1012/1012 [==============================] - 279s 275ms/step - loss: 0.6955 - categorical_accuracy: 0.7594 - val_loss: 0.9073 - val_categorical_accuracy: 0.6820\n",
      "Epoch 3/10\n",
      "1012/1012 [==============================] - 276s 272ms/step - loss: 0.6958 - categorical_accuracy: 0.7568 - val_loss: 0.9084 - val_categorical_accuracy: 0.6817\n",
      "Epoch 4/10\n",
      "1012/1012 [==============================] - 278s 275ms/step - loss: 0.6949 - categorical_accuracy: 0.7577 - val_loss: 0.9092 - val_categorical_accuracy: 0.6811\n",
      "Epoch 5/10\n",
      "1012/1012 [==============================] - 265s 262ms/step - loss: 0.6924 - categorical_accuracy: 0.7586 - val_loss: 0.9108 - val_categorical_accuracy: 0.6806\n",
      "Epoch 6/10\n",
      "1012/1012 [==============================] - 283s 279ms/step - loss: 0.6932 - categorical_accuracy: 0.7607 - val_loss: 0.9122 - val_categorical_accuracy: 0.6814\n",
      "Epoch 7/10\n",
      "1012/1012 [==============================] - 285s 282ms/step - loss: 0.6924 - categorical_accuracy: 0.7605 - val_loss: 0.9126 - val_categorical_accuracy: 0.6808\n",
      "Epoch 8/10\n",
      "1012/1012 [==============================] - 282s 279ms/step - loss: 0.6895 - categorical_accuracy: 0.7611 - val_loss: 0.9150 - val_categorical_accuracy: 0.6797\n",
      "Epoch 9/10\n",
      "1012/1012 [==============================] - 275s 271ms/step - loss: 0.6855 - categorical_accuracy: 0.7616 - val_loss: 0.9176 - val_categorical_accuracy: 0.6814\n",
      "Epoch 10/10\n",
      "1012/1012 [==============================] - 275s 272ms/step - loss: 0.6868 - categorical_accuracy: 0.7639 - val_loss: 0.9177 - val_categorical_accuracy: 0.6822\n"
     ]
    },
    {
     "data": {
      "image/png": "[encoded data removed]",
      "text/plain": [
       "<Figure size 432x288 with 1 Axes>"
      ]
     },
     "metadata": {
      "needs_background": "light"
     },
     "output_type": "display_data"
    }
   ],
   "source": [
    "# Create checkpoint\n",
    "model_checkpoint_callback = tf.keras.callbacks.ModelCheckpoint(\n",
    "    filepath='weights.best.tf',\n",
    "    save_weights_only=True,\n",
    "    monitor='val_loss',\n",
    "    mode='auto',\n",
    "    save_best_only=True)\n",
    "\n",
    "# Train Model\n",
    "batch_size = 32\n",
    "epochs = 10\n",
    "\n",
    "history = model.fit(X_train.values, y_train_one_hot, validation_data=(X_valid.values, y_valid_one_hot), callbacks=[model_checkpoint_callback], epochs=epochs, batch_size=batch_size)\n",
    "\n",
    "show_history(history)"
   ]
  },
  {
   "cell_type": "code",
   "execution_count": 287,
   "id": "7738a580-61cc-496c-84b4-5c423035a1e3",
   "metadata": {},
   "outputs": [
    {
     "name": "stdout",
     "output_type": "stream",
     "text": [
      "281/281 [==============================] - 33s 119ms/step\n",
      "Accuracy on test data: 68.0 %\n"
     ]
    }
   ],
   "source": [
    "# Load best setup\n",
    "model.load_weights(\"weights.best.tf\")\n",
    "\n",
    "# Make predictions on test data\n",
    "y_pred = model.predict(X_test).ravel()\n",
    "\n",
    "# Evaluate model on test dataset\n",
    "y_pred = y_pred.reshape((y_pred.shape[0] // 5 , 5))\n",
    "right = 0\n",
    "for index in range(0, y_pred.shape[0]):\n",
    "    i_predicted = np.argmax(y_pred[index])\n",
    "    i_real = np.argmax(y_test_one_hot[index])\n",
    "    if i_predicted == i_real:\n",
    "        right += 1;\n",
    "accuracy = right / y_pred.shape[0]\n",
    "print(f\"Accuracy on test data: {round(accuracy,2) * 100} %\")"
   ]
  },
  {
   "cell_type": "markdown",
   "id": "dbe0d62f-8255-4abe-9637-3362b2dff72c",
   "metadata": {},
   "source": [
    "### Shrnutí\n",
    "- Je vidět, že za pomocí Glove a Transfer learningu se dá rozhodně dosáhnout stejného výsledku, jakého jsem dosáhl s vlastním embedingem.\n",
    "- Jakmile jsem si zkoušel Fine tuning s velmi malým učícím koeficientem, tak šlo vidět, že je zde rozhodně prostor pro lepší naučení. Tedy overfitting se rapidně nezvyšoval. Bylo lepší snížit batch size, aby se model více učil. Doba učení se sice protáhla, ale opravdu se povedlo lépe model naučit."
   ]
  },
  {
   "cell_type": "code",
   "execution_count": null,
   "id": "f5127adc-e925-446c-9451-20905b548836",
   "metadata": {},
   "outputs": [],
   "source": []
  }
 ],
 "metadata": {
  "kernelspec": {
   "display_name": "Python 3",
   "language": "python",
   "name": "python3"
  },
  "language_info": {
   "codemirror_mode": {
    "name": "ipython",
    "version": 3
   },
   "file_extension": ".py",
   "mimetype": "text/x-python",
   "name": "python",
   "nbconvert_exporter": "python",
   "pygments_lexer": "ipython3",
   "version": "3.9.16"
  }
 },
 "nbformat": 4,
 "nbformat_minor": 5
}
